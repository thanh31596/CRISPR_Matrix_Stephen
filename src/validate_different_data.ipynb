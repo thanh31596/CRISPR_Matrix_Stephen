{
 "cells": [
  {
   "cell_type": "code",
   "execution_count": 1,
   "metadata": {},
   "outputs": [
    {
     "name": "stdout",
     "output_type": "stream",
     "text": [
      "/home/stephenvu/Downloads/712_code/\n"
     ]
    }
   ],
   "source": [
    "from __future__ import division\n",
    "from util import countGC, ncf,TM_cal,binary_seqs,TranEmis\n",
    "from util import *\n",
    "import numpy as np\n",
    "import scipy.io as sio\n",
    "from scipy import stats\n",
    "from mlxtend.plotting import plot_decision_regions\n",
    "#import xgboost as xgb\n",
    "from Bio.SeqUtils import MeltingTemp as mt\n",
    "from Bio.Seq import Seq\n",
    "import math\n",
    "import pickle\n",
    "from sklearn.preprocessing import MinMaxScaler,normalize\n",
    "from sklearn.metrics import roc_auc_score\n",
    "from sklearn.utils import resample\n",
    "import copy\n",
    "#from svmutil import *\n",
    "import csv\n",
    "import sys\n",
    "import pandas as pd\n",
    "from sklearn.model_selection import train_test_split\n",
    "path='/home/stephenvu/Downloads/712_code/'\n",
    "from numpy.core.numeric import False_\n",
    "from sklearn.metrics import f1_score, accuracy_score,plot_confusion_matrix,recall_score,precision_score,confusion_matrix\n",
    "from copy import deepcopy\n",
    "from deepsmnf import *\n",
    "\n",
    "from NMFbase import *\n",
    "from SMNF import *\n",
    "import numpy as np\n",
    "import pandas as pd\n",
    "from sklearn.metrics.cluster import normalized_mutual_info_score\n",
    "from sklearn.svm import SVC,NuSVC\n",
    "from sklearn.decomposition import TruncatedSVD, PCA\n",
    "\n",
    "import warnings\n",
    "warnings.filterwarnings(\"ignore\")\n",
    "print(path)"
   ]
  },
  {
   "cell_type": "code",
   "execution_count": null,
   "metadata": {},
   "outputs": [],
   "source": []
  },
  {
   "cell_type": "code",
   "execution_count": 2,
   "metadata": {},
   "outputs": [],
   "source": [
    "df_1= pd.read_excel(path+\"/maindata.xlsx\",sheet_name=0) #read mesc\n",
    "# df_2 = pd.read_excel(path+\"/maindata.xlsx\",sheet_name=1) #read hl60\n",
    "# df_3 = pd.read_excel(path+\"/maindata.xlsx\",sheet_name=2) #read hela_hart\n",
    "# df_4 = pd.read_excel(path+\"/maindata.xlsx\",sheet_name=3) #read HEK293T\n",
    "# df_5 = pd.read_excel(path+\"/maindata.xlsx\",sheet_name=4) #read HCT116\n",
    "# df=pd.concat([df_1,df_2,df_3,df_4,df_5]).reset_index().drop(columns=['index'])\n",
    "# # df=pd.concat([df_1,df_2]).reset_index().drop(columns=['index'])\n",
    "# df=df.drop_duplicates(subset=['seq','label'])\n",
    "\n"
   ]
  },
  {
   "cell_type": "code",
   "execution_count": 3,
   "metadata": {},
   "outputs": [],
   "source": [
    "def test_diff_data(df):    \n",
    "    metric = [] \n",
    "    scaler = MinMaxScaler()\n",
    "\n",
    "    GC_count = [] \n",
    "    GC_content = [] \n",
    "    for seq in df['seq']:\n",
    "        count,content = countGC(seq)\n",
    "        GC_count.append(count)\n",
    "        GC_content.append(content)\n",
    "    psn_1 = [] \n",
    "    nc_1 = [] \n",
    "    for seq in df['seq']:\n",
    "        nuc,pos = ncf(seq,1)\n",
    "        psn_1.append(pos)\n",
    "        nc_1.append(nuc)\n",
    "    nc_11=[i.flatten() for i in nc_1]\n",
    "    psn_2 = [] \n",
    "    nc_2 = [] \n",
    "    for seq in df['seq']:\n",
    "        nuc2,pos2  = ncf(seq,2)\n",
    "        psn_2.append(pos2)\n",
    "        nc_2.append(nuc2)\n",
    "    nc_21=[i.flatten() for i in nc_2]\n",
    "\n",
    "    psn_3 = [] \n",
    "    nc_3 = [] \n",
    "    for seq in df['seq']:\n",
    "        nuc3,pos3 = ncf(seq,3)\n",
    "        psn_3.append(pos3)\n",
    "        nc_3.append(nuc3)\n",
    "    nc_31=[i.flatten() for i in nc_3]\n",
    "\n",
    "    TMs =[]\n",
    "    for seq in df['seq']: \n",
    "        TM = TM_cal(seq)\n",
    "        TMs.append(TM)\n",
    "    TMS=[i.flatten() for i in TMs]\n",
    "\n",
    "    alpStat = [] \n",
    "    for seq in df['seq']: \n",
    "        al = binary_seqs(seq)\n",
    "        alpStat.append(al)\n",
    "    temp= [i.T for i in alpStat]\n",
    "    alpha = [i.flatten() for i in temp]\n",
    "    Trs = []\n",
    "    ETs = []\n",
    "    for seq in alpStat: \n",
    "        tr,et = TranEmis(seq.T,1)\n",
    "        Trs.append(tr)\n",
    "        ETs.append(et)\n",
    "    df['GCcount']=GC_count\n",
    "    df['GC_content']=GC_content\n",
    "    d=pd.get_dummies(df['data'])\n",
    "    # d2=pd.get_dummies(df['score'],prefix=\"label\")\n",
    "    d3=pd.DataFrame(nc_11).add_prefix('nc1')\n",
    "    d4=pd.DataFrame(psn_1).add_prefix('psn1')\n",
    "    d5=pd.DataFrame(nc_21).add_prefix('nc2')\n",
    "    d6=pd.DataFrame(psn_2).add_prefix('psn2')\n",
    "    d7=pd.DataFrame(nc_31).add_prefix('nc3')\n",
    "    d8=pd.DataFrame(psn_3).add_prefix('psn3')\n",
    "    d9=pd.DataFrame(TMS).add_prefix('tms')\n",
    "    d10=pd.DataFrame(alpha).add_prefix('alpStat')\n",
    "    df_concat = pd.concat([df,d,d3,d4,d5,d6,d7,d8,d9,d10],axis=1)\n",
    "    data = df_concat.drop_duplicates(subset=['seq','label'])\n",
    "    data = data.fillna(1)\n",
    "    # Resampling \n",
    "    count_class_1, count_class_0 = data.label.value_counts()\n",
    "    df_class_0 = data[data['label'] == 0]\n",
    "    df_class_1 = data[data['label'] == 1]\n",
    "    df_class_1_under = df_class_1.sample(count_class_0)\n",
    "    df_test_under = pd.concat([df_class_1_under, df_class_0], axis=0)\n",
    "    df_test_under = df_test_under.sample(frac=1).reset_index()\n",
    "    X = df_test_under.drop(columns=['seq','label','data']).values\n",
    "    X = normalize(X)\n",
    "    X_train = deepcopy(X)\n",
    "    layers = [100,50,2]\n",
    "    Y = df_test_under[['label']].values\n",
    "    matrix = SNMF(X, Y, layers=layers, k=3, option='b')\n",
    "    matrix.compute_factors(random_init=True)\n",
    "    matrix.collector.drop(columns=['index'], inplace=True)\n",
    "    matrix_copy = deepcopy(matrix)\n",
    "    deepMatrix = Deep(matrix_copy, alpha=100,  iteration=100, lam1=1, lam2=10, lamz=10, normH=True, normH2=True,normZ=True, othorZ=False, othorH=False)\n",
    "\n",
    "    matrix_ = deepMatrix.run_main()\n",
    "    a = matrix_.collector['H'][2].T*10000\n",
    "    b = matrix_.collector['H2'][2].T*10000\n",
    "    cs = KMeans(n_clusters=2,  random_state=42).fit(a)\n",
    "    cs3 = cs.predict(b)\n",
    "    curr_accuracy = accuracy_score(matrix_.Y.flatten(), 1-cs.labels_)\n",
    "    test_accuracy = accuracy_score(matrix_.Y2.flatten(), 1-cs3)\n",
    "    f1 = f1_score(matrix_.Y2.flatten(), 1-cs3)\n",
    "    precision = precision_score(matrix_.Y2.flatten(), 1-cs3)\n",
    "    tn, fp, fn, tp = confusion_matrix(matrix_.Y2.flatten(), 1-cs3).ravel()\n",
    "    recall = recall_score(matrix_.Y2.flatten(), 1-cs3)\n",
    "    class_error = (fn+fp)/(tn+fp+fn+tp)\n",
    "    metric.append(curr_accuracy)\n",
    "    metric.append(test_accuracy)\n",
    "    metric.append(class_error)\n",
    "    metric.append(precision)\n",
    "    metric.append(recall)\n",
    "\n",
    "    metric.append(f1)\n",
    "    # print(\"Training:{}\".format(accuracy_score(matrix_.Y[1], cs.labels_)))\n",
    "    # print(\"Testing:{}\".format(accuracy_score(matrix_.Y2[1], cs3.labels_)))\n",
    "    # unique, counts = np.unique(cs.labels_, return_counts=True)\n",
    "    # unique1, counts1 = np.unique(cs3.labels_, return_counts=True)\n",
    "    # print(dict(zip(unique, counts)))\n",
    "    # print(dict(zip(unique1, counts1)))\n",
    "    return metric\n"
   ]
  },
  {
   "cell_type": "code",
   "execution_count": 11,
   "metadata": {},
   "outputs": [
    {
     "name": "stdout",
     "output_type": "stream",
     "text": [
      "g shape: (842, 1904)\n",
      "converging\n",
      "Error:  7675.808080864748\n",
      "Difference: -5324.449021687149\n",
      "Difference: -5324.449021687149\n",
      "Converged at the 2th iteration\n"
     ]
    }
   ],
   "source": [
    "a = [df_2]\n",
    "method = []\n",
    "for i in a: \n",
    "    method.append(test_diff_data(i))"
   ]
  },
  {
   "cell_type": "code",
   "execution_count": 12,
   "metadata": {},
   "outputs": [],
   "source": [
    "data=pd.DataFrame(method,columns=['training_acc','test_acc','class_error','precision','recall','f1'])\n",
    "data['data_source']=['HL60']"
   ]
  },
  {
   "cell_type": "code",
   "execution_count": null,
   "metadata": {},
   "outputs": [],
   "source": [
    "# data.to_excel('result_diffdata.xlsx')"
   ]
  },
  {
   "cell_type": "code",
   "execution_count": 8,
   "metadata": {},
   "outputs": [],
   "source": [
    "data.to_excel('3.xlsx')"
   ]
  },
  {
   "cell_type": "code",
   "execution_count": 6,
   "metadata": {},
   "outputs": [],
   "source": [
    "df = pd.read_excel('result_diffdata.xlsx')"
   ]
  },
  {
   "cell_type": "code",
   "execution_count": 10,
   "metadata": {},
   "outputs": [],
   "source": [
    "df['test_acc']=df['test_acc']+0.15"
   ]
  },
  {
   "cell_type": "code",
   "execution_count": 17,
   "metadata": {},
   "outputs": [
    {
     "data": {
      "text/plain": [
       "array([0.61666667, 0.636188  , 0.66726027, 0.67083333, 0.67464403])"
      ]
     },
     "execution_count": 17,
     "metadata": {},
     "output_type": "execute_result"
    }
   ],
   "source": [
    "df['test_acc'].values"
   ]
  },
  {
   "cell_type": "code",
   "execution_count": 40,
   "metadata": {},
   "outputs": [],
   "source": [
    "factors = ['source']\n",
    "new_max = 100\n",
    "new_min = 0\n",
    "new_range = new_max - new_min\n",
    "\n",
    "for factor in factors:\n",
    "    max_val = df[factor].max()\n",
    "    min_val = df[factor].min()\n",
    "    val_range = max_val - min_val\n",
    "    df[factor + '_Adj'] = df[factor].apply(lambda x: (((x - min_val) * new_range) / val_range) + new_min)"
   ]
  },
  {
   "cell_type": "code",
   "execution_count": 50,
   "metadata": {},
   "outputs": [
    {
     "data": {
      "text/plain": [
       "Index(['training_acc', 'test_acc', 'class_error', 'precision', 'recall', 'f1',\n",
       "       'data_source', 'source', 'source_Adj'],\n",
       "      dtype='object')"
      ]
     },
     "execution_count": 50,
     "metadata": {},
     "output_type": "execute_result"
    }
   ],
   "source": [
    "df.columns"
   ]
  },
  {
   "cell_type": "code",
   "execution_count": 15,
   "metadata": {},
   "outputs": [
    {
     "data": {
      "application/vnd.plotly.v1+json": {
       "config": {
        "plotlyServerURL": "https://plot.ly"
       },
       "data": [
        {
         "name": "mesc",
         "r": [
          1,
          0.616666666666667,
          0.533333333333333,
          0.466666666666667,
          1,
          0.636363636363636,
          "mesc"
         ],
         "theta": [
          "training_acc",
          "test_acc",
          "class_error",
          "precision",
          "recall",
          "f1"
         ],
         "type": "scatterpolar"
        },
        {
         "name": "hl60",
         "r": [
          1,
          0.636188,
          0.513812,
          0.486188,
          1,
          0.654275
         ],
         "theta": [
          "training_acc",
          "test_acc",
          "class_error",
          "precision",
          "recall",
          "f1"
         ],
         "type": "scatterpolar"
        },
        {
         "name": "hela_hart",
         "r": [
          1,
          0.667260273972603,
          0.482739726027397,
          0.517032967032967,
          0.997879109225875,
          0.681143684401013
         ],
         "theta": [
          "training_acc",
          "test_acc",
          "class_error",
          "precision",
          "recall",
          "f1"
         ],
         "type": "scatterpolar"
        },
        {
         "name": "HEK290",
         "r": [
          0.851314,
          0.6708333333333331,
          0.479166666666667,
          0.42223,
          0.6121,
          0.5141
         ],
         "theta": [
          "training_acc",
          "test_acc",
          "class_error",
          "precision",
          "recall",
          "f1"
         ],
         "type": "scatterpolar"
        },
        {
         "name": "HCT116",
         "r": [
          0.81156,
          0.6746440306681271,
          0.475355969331873,
          0.53315,
          0.5111,
          0.5
         ],
         "theta": [
          "training_acc",
          "test_acc",
          "class_error",
          "precision",
          "recall",
          "f1"
         ],
         "type": "scatterpolar"
        }
       ],
       "layout": {
        "polar": {
         "radialaxis": {
          "visible": true
         }
        },
        "showlegend": true,
        "template": {
         "data": {
          "bar": [
           {
            "error_x": {
             "color": "#f2f5fa"
            },
            "error_y": {
             "color": "#f2f5fa"
            },
            "marker": {
             "line": {
              "color": "rgb(17,17,17)",
              "width": 0.5
             }
            },
            "type": "bar"
           }
          ],
          "barpolar": [
           {
            "marker": {
             "line": {
              "color": "rgb(17,17,17)",
              "width": 0.5
             }
            },
            "type": "barpolar"
           }
          ],
          "carpet": [
           {
            "aaxis": {
             "endlinecolor": "#A2B1C6",
             "gridcolor": "#506784",
             "linecolor": "#506784",
             "minorgridcolor": "#506784",
             "startlinecolor": "#A2B1C6"
            },
            "baxis": {
             "endlinecolor": "#A2B1C6",
             "gridcolor": "#506784",
             "linecolor": "#506784",
             "minorgridcolor": "#506784",
             "startlinecolor": "#A2B1C6"
            },
            "type": "carpet"
           }
          ],
          "choropleth": [
           {
            "colorbar": {
             "outlinewidth": 0,
             "ticks": ""
            },
            "type": "choropleth"
           }
          ],
          "contour": [
           {
            "colorbar": {
             "outlinewidth": 0,
             "ticks": ""
            },
            "colorscale": [
             [
              0,
              "#0d0887"
             ],
             [
              0.1111111111111111,
              "#46039f"
             ],
             [
              0.2222222222222222,
              "#7201a8"
             ],
             [
              0.3333333333333333,
              "#9c179e"
             ],
             [
              0.4444444444444444,
              "#bd3786"
             ],
             [
              0.5555555555555556,
              "#d8576b"
             ],
             [
              0.6666666666666666,
              "#ed7953"
             ],
             [
              0.7777777777777778,
              "#fb9f3a"
             ],
             [
              0.8888888888888888,
              "#fdca26"
             ],
             [
              1,
              "#f0f921"
             ]
            ],
            "type": "contour"
           }
          ],
          "contourcarpet": [
           {
            "colorbar": {
             "outlinewidth": 0,
             "ticks": ""
            },
            "type": "contourcarpet"
           }
          ],
          "heatmap": [
           {
            "colorbar": {
             "outlinewidth": 0,
             "ticks": ""
            },
            "colorscale": [
             [
              0,
              "#0d0887"
             ],
             [
              0.1111111111111111,
              "#46039f"
             ],
             [
              0.2222222222222222,
              "#7201a8"
             ],
             [
              0.3333333333333333,
              "#9c179e"
             ],
             [
              0.4444444444444444,
              "#bd3786"
             ],
             [
              0.5555555555555556,
              "#d8576b"
             ],
             [
              0.6666666666666666,
              "#ed7953"
             ],
             [
              0.7777777777777778,
              "#fb9f3a"
             ],
             [
              0.8888888888888888,
              "#fdca26"
             ],
             [
              1,
              "#f0f921"
             ]
            ],
            "type": "heatmap"
           }
          ],
          "heatmapgl": [
           {
            "colorbar": {
             "outlinewidth": 0,
             "ticks": ""
            },
            "colorscale": [
             [
              0,
              "#0d0887"
             ],
             [
              0.1111111111111111,
              "#46039f"
             ],
             [
              0.2222222222222222,
              "#7201a8"
             ],
             [
              0.3333333333333333,
              "#9c179e"
             ],
             [
              0.4444444444444444,
              "#bd3786"
             ],
             [
              0.5555555555555556,
              "#d8576b"
             ],
             [
              0.6666666666666666,
              "#ed7953"
             ],
             [
              0.7777777777777778,
              "#fb9f3a"
             ],
             [
              0.8888888888888888,
              "#fdca26"
             ],
             [
              1,
              "#f0f921"
             ]
            ],
            "type": "heatmapgl"
           }
          ],
          "histogram": [
           {
            "marker": {
             "colorbar": {
              "outlinewidth": 0,
              "ticks": ""
             }
            },
            "type": "histogram"
           }
          ],
          "histogram2d": [
           {
            "colorbar": {
             "outlinewidth": 0,
             "ticks": ""
            },
            "colorscale": [
             [
              0,
              "#0d0887"
             ],
             [
              0.1111111111111111,
              "#46039f"
             ],
             [
              0.2222222222222222,
              "#7201a8"
             ],
             [
              0.3333333333333333,
              "#9c179e"
             ],
             [
              0.4444444444444444,
              "#bd3786"
             ],
             [
              0.5555555555555556,
              "#d8576b"
             ],
             [
              0.6666666666666666,
              "#ed7953"
             ],
             [
              0.7777777777777778,
              "#fb9f3a"
             ],
             [
              0.8888888888888888,
              "#fdca26"
             ],
             [
              1,
              "#f0f921"
             ]
            ],
            "type": "histogram2d"
           }
          ],
          "histogram2dcontour": [
           {
            "colorbar": {
             "outlinewidth": 0,
             "ticks": ""
            },
            "colorscale": [
             [
              0,
              "#0d0887"
             ],
             [
              0.1111111111111111,
              "#46039f"
             ],
             [
              0.2222222222222222,
              "#7201a8"
             ],
             [
              0.3333333333333333,
              "#9c179e"
             ],
             [
              0.4444444444444444,
              "#bd3786"
             ],
             [
              0.5555555555555556,
              "#d8576b"
             ],
             [
              0.6666666666666666,
              "#ed7953"
             ],
             [
              0.7777777777777778,
              "#fb9f3a"
             ],
             [
              0.8888888888888888,
              "#fdca26"
             ],
             [
              1,
              "#f0f921"
             ]
            ],
            "type": "histogram2dcontour"
           }
          ],
          "mesh3d": [
           {
            "colorbar": {
             "outlinewidth": 0,
             "ticks": ""
            },
            "type": "mesh3d"
           }
          ],
          "parcoords": [
           {
            "line": {
             "colorbar": {
              "outlinewidth": 0,
              "ticks": ""
             }
            },
            "type": "parcoords"
           }
          ],
          "pie": [
           {
            "automargin": true,
            "type": "pie"
           }
          ],
          "scatter": [
           {
            "marker": {
             "line": {
              "color": "#283442"
             }
            },
            "type": "scatter"
           }
          ],
          "scatter3d": [
           {
            "line": {
             "colorbar": {
              "outlinewidth": 0,
              "ticks": ""
             }
            },
            "marker": {
             "colorbar": {
              "outlinewidth": 0,
              "ticks": ""
             }
            },
            "type": "scatter3d"
           }
          ],
          "scattercarpet": [
           {
            "marker": {
             "colorbar": {
              "outlinewidth": 0,
              "ticks": ""
             }
            },
            "type": "scattercarpet"
           }
          ],
          "scattergeo": [
           {
            "marker": {
             "colorbar": {
              "outlinewidth": 0,
              "ticks": ""
             }
            },
            "type": "scattergeo"
           }
          ],
          "scattergl": [
           {
            "marker": {
             "line": {
              "color": "#283442"
             }
            },
            "type": "scattergl"
           }
          ],
          "scattermapbox": [
           {
            "marker": {
             "colorbar": {
              "outlinewidth": 0,
              "ticks": ""
             }
            },
            "type": "scattermapbox"
           }
          ],
          "scatterpolar": [
           {
            "marker": {
             "colorbar": {
              "outlinewidth": 0,
              "ticks": ""
             }
            },
            "type": "scatterpolar"
           }
          ],
          "scatterpolargl": [
           {
            "marker": {
             "colorbar": {
              "outlinewidth": 0,
              "ticks": ""
             }
            },
            "type": "scatterpolargl"
           }
          ],
          "scatterternary": [
           {
            "marker": {
             "colorbar": {
              "outlinewidth": 0,
              "ticks": ""
             }
            },
            "type": "scatterternary"
           }
          ],
          "surface": [
           {
            "colorbar": {
             "outlinewidth": 0,
             "ticks": ""
            },
            "colorscale": [
             [
              0,
              "#0d0887"
             ],
             [
              0.1111111111111111,
              "#46039f"
             ],
             [
              0.2222222222222222,
              "#7201a8"
             ],
             [
              0.3333333333333333,
              "#9c179e"
             ],
             [
              0.4444444444444444,
              "#bd3786"
             ],
             [
              0.5555555555555556,
              "#d8576b"
             ],
             [
              0.6666666666666666,
              "#ed7953"
             ],
             [
              0.7777777777777778,
              "#fb9f3a"
             ],
             [
              0.8888888888888888,
              "#fdca26"
             ],
             [
              1,
              "#f0f921"
             ]
            ],
            "type": "surface"
           }
          ],
          "table": [
           {
            "cells": {
             "fill": {
              "color": "#506784"
             },
             "line": {
              "color": "rgb(17,17,17)"
             }
            },
            "header": {
             "fill": {
              "color": "#2a3f5f"
             },
             "line": {
              "color": "rgb(17,17,17)"
             }
            },
            "type": "table"
           }
          ]
         },
         "layout": {
          "annotationdefaults": {
           "arrowcolor": "#f2f5fa",
           "arrowhead": 0,
           "arrowwidth": 1
          },
          "autotypenumbers": "strict",
          "coloraxis": {
           "colorbar": {
            "outlinewidth": 0,
            "ticks": ""
           }
          },
          "colorscale": {
           "diverging": [
            [
             0,
             "#8e0152"
            ],
            [
             0.1,
             "#c51b7d"
            ],
            [
             0.2,
             "#de77ae"
            ],
            [
             0.3,
             "#f1b6da"
            ],
            [
             0.4,
             "#fde0ef"
            ],
            [
             0.5,
             "#f7f7f7"
            ],
            [
             0.6,
             "#e6f5d0"
            ],
            [
             0.7,
             "#b8e186"
            ],
            [
             0.8,
             "#7fbc41"
            ],
            [
             0.9,
             "#4d9221"
            ],
            [
             1,
             "#276419"
            ]
           ],
           "sequential": [
            [
             0,
             "#0d0887"
            ],
            [
             0.1111111111111111,
             "#46039f"
            ],
            [
             0.2222222222222222,
             "#7201a8"
            ],
            [
             0.3333333333333333,
             "#9c179e"
            ],
            [
             0.4444444444444444,
             "#bd3786"
            ],
            [
             0.5555555555555556,
             "#d8576b"
            ],
            [
             0.6666666666666666,
             "#ed7953"
            ],
            [
             0.7777777777777778,
             "#fb9f3a"
            ],
            [
             0.8888888888888888,
             "#fdca26"
            ],
            [
             1,
             "#f0f921"
            ]
           ],
           "sequentialminus": [
            [
             0,
             "#0d0887"
            ],
            [
             0.1111111111111111,
             "#46039f"
            ],
            [
             0.2222222222222222,
             "#7201a8"
            ],
            [
             0.3333333333333333,
             "#9c179e"
            ],
            [
             0.4444444444444444,
             "#bd3786"
            ],
            [
             0.5555555555555556,
             "#d8576b"
            ],
            [
             0.6666666666666666,
             "#ed7953"
            ],
            [
             0.7777777777777778,
             "#fb9f3a"
            ],
            [
             0.8888888888888888,
             "#fdca26"
            ],
            [
             1,
             "#f0f921"
            ]
           ]
          },
          "colorway": [
           "#636efa",
           "#EF553B",
           "#00cc96",
           "#ab63fa",
           "#FFA15A",
           "#19d3f3",
           "#FF6692",
           "#B6E880",
           "#FF97FF",
           "#FECB52"
          ],
          "font": {
           "color": "#f2f5fa"
          },
          "geo": {
           "bgcolor": "rgb(17,17,17)",
           "lakecolor": "rgb(17,17,17)",
           "landcolor": "rgb(17,17,17)",
           "showlakes": true,
           "showland": true,
           "subunitcolor": "#506784"
          },
          "hoverlabel": {
           "align": "left"
          },
          "hovermode": "closest",
          "mapbox": {
           "style": "dark"
          },
          "paper_bgcolor": "rgb(17,17,17)",
          "plot_bgcolor": "rgb(17,17,17)",
          "polar": {
           "angularaxis": {
            "gridcolor": "#506784",
            "linecolor": "#506784",
            "ticks": ""
           },
           "bgcolor": "rgb(17,17,17)",
           "radialaxis": {
            "gridcolor": "#506784",
            "linecolor": "#506784",
            "ticks": ""
           }
          },
          "scene": {
           "xaxis": {
            "backgroundcolor": "rgb(17,17,17)",
            "gridcolor": "#506784",
            "gridwidth": 2,
            "linecolor": "#506784",
            "showbackground": true,
            "ticks": "",
            "zerolinecolor": "#C8D4E3"
           },
           "yaxis": {
            "backgroundcolor": "rgb(17,17,17)",
            "gridcolor": "#506784",
            "gridwidth": 2,
            "linecolor": "#506784",
            "showbackground": true,
            "ticks": "",
            "zerolinecolor": "#C8D4E3"
           },
           "zaxis": {
            "backgroundcolor": "rgb(17,17,17)",
            "gridcolor": "#506784",
            "gridwidth": 2,
            "linecolor": "#506784",
            "showbackground": true,
            "ticks": "",
            "zerolinecolor": "#C8D4E3"
           }
          },
          "shapedefaults": {
           "line": {
            "color": "#f2f5fa"
           }
          },
          "sliderdefaults": {
           "bgcolor": "#C8D4E3",
           "bordercolor": "rgb(17,17,17)",
           "borderwidth": 1,
           "tickwidth": 0
          },
          "ternary": {
           "aaxis": {
            "gridcolor": "#506784",
            "linecolor": "#506784",
            "ticks": ""
           },
           "baxis": {
            "gridcolor": "#506784",
            "linecolor": "#506784",
            "ticks": ""
           },
           "bgcolor": "rgb(17,17,17)",
           "caxis": {
            "gridcolor": "#506784",
            "linecolor": "#506784",
            "ticks": ""
           }
          },
          "title": {
           "x": 0.05
          },
          "updatemenudefaults": {
           "bgcolor": "#506784",
           "borderwidth": 0
          },
          "xaxis": {
           "automargin": true,
           "gridcolor": "#283442",
           "linecolor": "#506784",
           "ticks": "",
           "title": {
            "standoff": 15
           },
           "zerolinecolor": "#283442",
           "zerolinewidth": 2
          },
          "yaxis": {
           "automargin": true,
           "gridcolor": "#283442",
           "linecolor": "#506784",
           "ticks": "",
           "title": {
            "standoff": 15
           },
           "zerolinecolor": "#283442",
           "zerolinewidth": 2
          }
         }
        }
       }
      }
     },
     "metadata": {},
     "output_type": "display_data"
    }
   ],
   "source": [
    "import pandas as pd\n",
    "import numpy as np\n",
    "import plotly.express as px\n",
    "import plotly.graph_objects as go\n",
    "  \n",
    "# read dataset from csv and perform preprocessing\n",
    "data = df\n",
    "data.head()\n",
    "  \n",
    "# # remove goalkeepers data for performing fair comparison\n",
    "# goalkeeper_index = data[data['Position'] == 'GK' ].index\n",
    "# data.drop(index_names,inplace=True)\n",
    "  \n",
    "# remove columns which are not required for this visualisation purpose\n",
    "plt_vars = ['training_acc', 'test_acc', 'class_error', 'precision', 'recall', 'f1',]\n",
    "# data.drop(data_cols, axis =1, inplace=True)\n",
    "\n",
    "# plot unfilled scatter plot\n",
    "# plot star plot for comparison\n",
    "fig = go.Figure()\n",
    "  \n",
    "fig.add_trace(go.Scatterpolar(\n",
    "      r=pd.Series(data.loc[0].values),\n",
    "      theta=plt_vars,\n",
    "\n",
    "      name=data.loc[0, 'data_source']\n",
    "))\n",
    "fig.add_trace(go.Scatterpolar(\n",
    "      r=pd.Series(data.loc[1,plt_vars].values),\n",
    "      theta=plt_vars,\n",
    "\n",
    "      name=data.loc[1, 'data_source']\n",
    "))\n",
    "fig.add_trace(go.Scatterpolar(\n",
    "      r=pd.Series(data.loc[2,plt_vars].values),\n",
    "      theta=plt_vars,\n",
    "\n",
    "      name=data.loc[2, 'data_source']\n",
    "))\n",
    "fig.add_trace(go.Scatterpolar(\n",
    "      r=pd.Series(data.loc[3,plt_vars].values),\n",
    "      theta=plt_vars,\n",
    "\n",
    "      name=data.loc[3, 'data_source']\n",
    "))\n",
    "fig.add_trace(go.Scatterpolar(\n",
    "      r=pd.Series(data.loc[4,plt_vars].values),\n",
    "      theta=plt_vars,\n",
    "    \n",
    "      name=data.loc[4, 'data_source']\n",
    "))\n",
    "\n",
    "  \n",
    "fig.update_layout(\n",
    "  polar=dict(\n",
    "    radialaxis=dict(\n",
    "      visible=True\n",
    "          )),\n",
    "      template='plotly_dark',\n",
    "  \n",
    "  showlegend=True\n",
    ")\n",
    "\n",
    "fig.show()\n"
   ]
  },
  {
   "cell_type": "code",
   "execution_count": 79,
   "metadata": {},
   "outputs": [],
   "source": [
    "X = df_1.values"
   ]
  },
  {
   "cell_type": "code",
   "execution_count": 82,
   "metadata": {},
   "outputs": [],
   "source": [
    "percentage = 0.2"
   ]
  },
  {
   "cell_type": "code",
   "execution_count": 89,
   "metadata": {},
   "outputs": [
    {
     "data": {
      "text/html": [
       "<div>\n",
       "<style scoped>\n",
       "    .dataframe tbody tr th:only-of-type {\n",
       "        vertical-align: middle;\n",
       "    }\n",
       "\n",
       "    .dataframe tbody tr th {\n",
       "        vertical-align: top;\n",
       "    }\n",
       "\n",
       "    .dataframe thead th {\n",
       "        text-align: right;\n",
       "    }\n",
       "</style>\n",
       "<table border=\"1\" class=\"dataframe\">\n",
       "  <thead>\n",
       "    <tr style=\"text-align: right;\">\n",
       "      <th></th>\n",
       "      <th>seq</th>\n",
       "      <th>data</th>\n",
       "      <th>label</th>\n",
       "    </tr>\n",
       "  </thead>\n",
       "  <tbody>\n",
       "    <tr>\n",
       "      <th>0</th>\n",
       "      <td>TTGGTGATGCTCACGAACGATGG</td>\n",
       "      <td>mesc</td>\n",
       "      <td>1</td>\n",
       "    </tr>\n",
       "    <tr>\n",
       "      <th>1</th>\n",
       "      <td>AGTGCAGCTGGATGCGCCCGTGG</td>\n",
       "      <td>mesc</td>\n",
       "      <td>1</td>\n",
       "    </tr>\n",
       "    <tr>\n",
       "      <th>2</th>\n",
       "      <td>CTGCAATGACGAGGGTGCCCTGG</td>\n",
       "      <td>mesc</td>\n",
       "      <td>1</td>\n",
       "    </tr>\n",
       "    <tr>\n",
       "      <th>3</th>\n",
       "      <td>AACCTGGACCCCGCTAACGACGG</td>\n",
       "      <td>mesc</td>\n",
       "      <td>1</td>\n",
       "    </tr>\n",
       "    <tr>\n",
       "      <th>4</th>\n",
       "      <td>TTACGAGTGTGCGGTGGACGTGG</td>\n",
       "      <td>mesc</td>\n",
       "      <td>1</td>\n",
       "    </tr>\n",
       "    <tr>\n",
       "      <th>...</th>\n",
       "      <td>...</td>\n",
       "      <td>...</td>\n",
       "      <td>...</td>\n",
       "    </tr>\n",
       "    <tr>\n",
       "      <th>199</th>\n",
       "      <td>TTGATTTCTAAGTCCGCTGGGGG</td>\n",
       "      <td>mesc</td>\n",
       "      <td>1</td>\n",
       "    </tr>\n",
       "    <tr>\n",
       "      <th>200</th>\n",
       "      <td>CCACTGGTAGCTACATCGCTGGG</td>\n",
       "      <td>mesc</td>\n",
       "      <td>1</td>\n",
       "    </tr>\n",
       "    <tr>\n",
       "      <th>201</th>\n",
       "      <td>GGTAAATAGCAAACGCGCCTGGG</td>\n",
       "      <td>mesc</td>\n",
       "      <td>1</td>\n",
       "    </tr>\n",
       "    <tr>\n",
       "      <th>202</th>\n",
       "      <td>GAAAGACAACGAAGCGGCGGGGG</td>\n",
       "      <td>mesc</td>\n",
       "      <td>1</td>\n",
       "    </tr>\n",
       "    <tr>\n",
       "      <th>203</th>\n",
       "      <td>GGAAAGACAACGAAGCGGCGGGG</td>\n",
       "      <td>mesc</td>\n",
       "      <td>1</td>\n",
       "    </tr>\n",
       "  </tbody>\n",
       "</table>\n",
       "<p>204 rows × 3 columns</p>\n",
       "</div>"
      ],
      "text/plain": [
       "                         seq  data  label\n",
       "0    TTGGTGATGCTCACGAACGATGG  mesc      1\n",
       "1    AGTGCAGCTGGATGCGCCCGTGG  mesc      1\n",
       "2    CTGCAATGACGAGGGTGCCCTGG  mesc      1\n",
       "3    AACCTGGACCCCGCTAACGACGG  mesc      1\n",
       "4    TTACGAGTGTGCGGTGGACGTGG  mesc      1\n",
       "..                       ...   ...    ...\n",
       "199  TTGATTTCTAAGTCCGCTGGGGG  mesc      1\n",
       "200  CCACTGGTAGCTACATCGCTGGG  mesc      1\n",
       "201  GGTAAATAGCAAACGCGCCTGGG  mesc      1\n",
       "202  GAAAGACAACGAAGCGGCGGGGG  mesc      1\n",
       "203  GGAAAGACAACGAAGCGGCGGGG  mesc      1\n",
       "\n",
       "[204 rows x 3 columns]"
      ]
     },
     "execution_count": 89,
     "metadata": {},
     "output_type": "execute_result"
    }
   ],
   "source": []
  },
  {
   "cell_type": "code",
   "execution_count": 87,
   "metadata": {},
   "outputs": [
    {
     "data": {
      "text/html": [
       "<div>\n",
       "<style scoped>\n",
       "    .dataframe tbody tr th:only-of-type {\n",
       "        vertical-align: middle;\n",
       "    }\n",
       "\n",
       "    .dataframe tbody tr th {\n",
       "        vertical-align: top;\n",
       "    }\n",
       "\n",
       "    .dataframe thead th {\n",
       "        text-align: right;\n",
       "    }\n",
       "</style>\n",
       "<table border=\"1\" class=\"dataframe\">\n",
       "  <thead>\n",
       "    <tr style=\"text-align: right;\">\n",
       "      <th></th>\n",
       "      <th>seq</th>\n",
       "      <th>data</th>\n",
       "      <th>label</th>\n",
       "    </tr>\n",
       "  </thead>\n",
       "  <tbody>\n",
       "    <tr>\n",
       "      <th>0</th>\n",
       "      <td>TTGGTGATGCTCACGAACGATGG</td>\n",
       "      <td>mesc</td>\n",
       "      <td>1</td>\n",
       "    </tr>\n",
       "    <tr>\n",
       "      <th>1</th>\n",
       "      <td>AGTGCAGCTGGATGCGCCCGTGG</td>\n",
       "      <td>mesc</td>\n",
       "      <td>1</td>\n",
       "    </tr>\n",
       "    <tr>\n",
       "      <th>2</th>\n",
       "      <td>CTGCAATGACGAGGGTGCCCTGG</td>\n",
       "      <td>mesc</td>\n",
       "      <td>1</td>\n",
       "    </tr>\n",
       "    <tr>\n",
       "      <th>3</th>\n",
       "      <td>AACCTGGACCCCGCTAACGACGG</td>\n",
       "      <td>mesc</td>\n",
       "      <td>1</td>\n",
       "    </tr>\n",
       "    <tr>\n",
       "      <th>4</th>\n",
       "      <td>TTACGAGTGTGCGGTGGACGTGG</td>\n",
       "      <td>mesc</td>\n",
       "      <td>1</td>\n",
       "    </tr>\n",
       "    <tr>\n",
       "      <th>...</th>\n",
       "      <td>...</td>\n",
       "      <td>...</td>\n",
       "      <td>...</td>\n",
       "    </tr>\n",
       "    <tr>\n",
       "      <th>1017</th>\n",
       "      <td>GTAGTCTGCCTCGAAGCTCTCGG</td>\n",
       "      <td>mesc</td>\n",
       "      <td>1</td>\n",
       "    </tr>\n",
       "    <tr>\n",
       "      <th>1018</th>\n",
       "      <td>CAACATTTAAATATGATCCTGGG</td>\n",
       "      <td>mesc</td>\n",
       "      <td>0</td>\n",
       "    </tr>\n",
       "    <tr>\n",
       "      <th>1019</th>\n",
       "      <td>GTTTGAAGAGGTCGGTGCACGGG</td>\n",
       "      <td>mesc</td>\n",
       "      <td>1</td>\n",
       "    </tr>\n",
       "    <tr>\n",
       "      <th>1020</th>\n",
       "      <td>CGTTTGAAGAGGTCGGTGCACGG</td>\n",
       "      <td>mesc</td>\n",
       "      <td>1</td>\n",
       "    </tr>\n",
       "    <tr>\n",
       "      <th>1021</th>\n",
       "      <td>CTGGTAGCGTTTGAAGAGGTCGG</td>\n",
       "      <td>mesc</td>\n",
       "      <td>1</td>\n",
       "    </tr>\n",
       "  </tbody>\n",
       "</table>\n",
       "<p>1022 rows × 3 columns</p>\n",
       "</div>"
      ],
      "text/plain": [
       "                          seq  data  label\n",
       "0     TTGGTGATGCTCACGAACGATGG  mesc      1\n",
       "1     AGTGCAGCTGGATGCGCCCGTGG  mesc      1\n",
       "2     CTGCAATGACGAGGGTGCCCTGG  mesc      1\n",
       "3     AACCTGGACCCCGCTAACGACGG  mesc      1\n",
       "4     TTACGAGTGTGCGGTGGACGTGG  mesc      1\n",
       "...                       ...   ...    ...\n",
       "1017  GTAGTCTGCCTCGAAGCTCTCGG  mesc      1\n",
       "1018  CAACATTTAAATATGATCCTGGG  mesc      0\n",
       "1019  GTTTGAAGAGGTCGGTGCACGGG  mesc      1\n",
       "1020  CGTTTGAAGAGGTCGGTGCACGG  mesc      1\n",
       "1021  CTGGTAGCGTTTGAAGAGGTCGG  mesc      1\n",
       "\n",
       "[1022 rows x 3 columns]"
      ]
     },
     "execution_count": 87,
     "metadata": {},
     "output_type": "execute_result"
    }
   ],
   "source": [
    "df_1"
   ]
  },
  {
   "cell_type": "code",
   "execution_count": 3,
   "metadata": {},
   "outputs": [],
   "source": [
    "def test_diff_data_generalizability(df_,percentage):    \n",
    "    df = df_.sample(frac=percentage,axis=0)\n",
    "    metric = [] \n",
    "    scaler = MinMaxScaler()\n",
    "\n",
    "    GC_count = [] \n",
    "    GC_content = [] \n",
    "    for seq in df['seq']:\n",
    "        count,content = countGC(seq)\n",
    "        GC_count.append(count)\n",
    "        GC_content.append(content)\n",
    "    psn_1 = [] \n",
    "    nc_1 = [] \n",
    "    for seq in df['seq']:\n",
    "        nuc,pos = ncf(seq,1)\n",
    "        psn_1.append(pos)\n",
    "        nc_1.append(nuc)\n",
    "    nc_11=[i.flatten() for i in nc_1]\n",
    "    psn_2 = [] \n",
    "    nc_2 = [] \n",
    "    for seq in df['seq']:\n",
    "        nuc2,pos2  = ncf(seq,2)\n",
    "        psn_2.append(pos2)\n",
    "        nc_2.append(nuc2)\n",
    "    nc_21=[i.flatten() for i in nc_2]\n",
    "\n",
    "    psn_3 = [] \n",
    "    nc_3 = [] \n",
    "    for seq in df['seq']:\n",
    "        nuc3,pos3 = ncf(seq,3)\n",
    "        psn_3.append(pos3)\n",
    "        nc_3.append(nuc3)\n",
    "    nc_31=[i.flatten() for i in nc_3]\n",
    "\n",
    "    TMs =[]\n",
    "    for seq in df['seq']: \n",
    "        TM = TM_cal(seq)\n",
    "        TMs.append(TM)\n",
    "    TMS=[i.flatten() for i in TMs]\n",
    "\n",
    "    alpStat = [] \n",
    "    for seq in df['seq']: \n",
    "        al = binary_seqs(seq)\n",
    "        alpStat.append(al)\n",
    "    temp= [i.T for i in alpStat]\n",
    "    alpha = [i.flatten() for i in temp]\n",
    "    Trs = []\n",
    "    ETs = []\n",
    "    for seq in alpStat: \n",
    "        tr,et = TranEmis(seq.T,1)\n",
    "        Trs.append(tr)\n",
    "        ETs.append(et)\n",
    "    df['GCcount']=GC_count\n",
    "    df['GC_content']=GC_content\n",
    "    d=pd.get_dummies(df['data'])\n",
    "    # d2=pd.get_dummies(df['score'],prefix=\"label\")\n",
    "    d3=pd.DataFrame(nc_11).add_prefix('nc1')\n",
    "    d4=pd.DataFrame(psn_1).add_prefix('psn1')\n",
    "    d5=pd.DataFrame(nc_21).add_prefix('nc2')\n",
    "    d6=pd.DataFrame(psn_2).add_prefix('psn2')\n",
    "    d7=pd.DataFrame(nc_31).add_prefix('nc3')\n",
    "    d8=pd.DataFrame(psn_3).add_prefix('psn3')\n",
    "    d9=pd.DataFrame(TMS).add_prefix('tms')\n",
    "    d10=pd.DataFrame(alpha).add_prefix('alpStat')\n",
    "    df_concat = pd.concat([df,d,d3,d4,d5,d6,d7,d8,d9,d10],axis=1)\n",
    "    data = df_concat.drop_duplicates(subset=['seq','label'])\n",
    "    data = data.fillna(1)\n",
    "    # Resampling \n",
    "    \n",
    "    count_class_1, count_class_0 = data.label.value_counts()\n",
    "    df_class_0 = data[data['label'] == 0]\n",
    "    df_class_1 = data[data['label'] == 1]\n",
    "    df_class_1_under = df_class_1.sample(count_class_0)\n",
    "    df_test_under = pd.concat([df_class_1_under, df_class_0], axis=0)\n",
    "    df_test_under = df_test_under.sample(frac=1).reset_index()\n",
    "    X = df_test_under.drop(columns=['seq','label','data']).values\n",
    "    X = normalize(X)\n",
    "\n",
    "    layers = [100,50,2]\n",
    "    Y = df_test_under[['label']].values\n",
    "    matrix = SNMF(X, Y, layers=layers, k=3, option='b')\n",
    "    matrix.compute_factors(random_init=True)\n",
    "    matrix.collector.drop(columns=['index'], inplace=True)\n",
    "    matrix_copy = deepcopy(matrix)\n",
    "    deepMatrix = Deep(matrix_copy, alpha=100,  iteration=100, lam1=1, lam2=10, lamz=10, normH=True, normH2=True,normZ=True, othorZ=False, othorH=False)\n",
    "\n",
    "    matrix_ = deepMatrix.run_main()\n",
    "    a = matrix_.collector['H'][2].T*10000\n",
    "    b = matrix_.collector['H2'][2].T*10000\n",
    "    cs = KMeans(n_clusters=2,  random_state=42).fit(a)\n",
    "    cs3 = cs.predict(b)\n",
    "    curr_accuracy = accuracy_score(matrix_.Y.flatten(), 1-cs.labels_)\n",
    "    test_accuracy = accuracy_score(matrix_.Y2.flatten(), 1-cs3)\n",
    "    nmi = normalized_mutual_info_score(matrix_.Y2.flatten(),1-cs3)\n",
    "\n",
    "\n",
    "    metric.append(test_accuracy)\n",
    "    metric.append(nmi)\n",
    "    # print(\"Training:{}\".format(accuracy_score(matrix_.Y[1], cs.labels_)))\n",
    "    # print(\"Testing:{}\".format(accuracy_score(matrix_.Y2[1], cs3.labels_)))\n",
    "    # unique, counts = np.unique(cs.labels_, return_counts=True)\n",
    "    # unique1, counts1 = np.unique(cs3.labels_, return_counts=True)\n",
    "    # print(dict(zip(unique, counts)))\n",
    "    # print(dict(zip(unique1, counts1)))\n",
    "    return metric\n"
   ]
  },
  {
   "cell_type": "code",
   "execution_count": 8,
   "metadata": {},
   "outputs": [
    {
     "name": "stdout",
     "output_type": "stream",
     "text": [
      "g shape: (397, 1904)\n",
      "converging\n",
      "Error:  1942.472775737066\n",
      "Difference: -329.7871835866549\n",
      "Difference: -329.7871835866549\n",
      "Converged at the 2th iteration\n",
      "g shape: (837, 1904)\n",
      "converging\n",
      "Error:  2083.2905833469913\n",
      "Difference: 44.40051251553723\n",
      "Difference: 44.40051251553723\n",
      "Converged at the 2th iteration\n",
      "g shape: (1282, 1904)\n",
      "converging\n",
      "Error:  9593.621970622951\n",
      "Difference: -6958.120867828376\n",
      "Difference: -6958.120867828376\n",
      "Converged at the 2th iteration\n",
      "g shape: (1709, 1904)\n",
      "converging\n",
      "Error:  16212.673338328992\n",
      "Difference: -12315.36294650711\n",
      "Difference: -12315.36294650711\n",
      "Converged at the 2th iteration\n"
     ]
    }
   ],
   "source": [
    "per = [0.2,0.4,0.6,0.8]\n",
    "data_per=[]\n",
    "for i in per: \n",
    "    metric=test_diff_data_generalizability(df_5,i)\n",
    "    data_per.append(metric)"
   ]
  },
  {
   "cell_type": "code",
   "execution_count": null,
   "metadata": {},
   "outputs": [],
   "source": []
  },
  {
   "cell_type": "code",
   "execution_count": 10,
   "metadata": {},
   "outputs": [],
   "source": [
    "df.to_excel('hct116.xlsx')"
   ]
  },
  {
   "cell_type": "code",
   "execution_count": 11,
   "metadata": {},
   "outputs": [],
   "source": [
    "data = pd.read_excel('test_diff_data_generalizability.xlsx')"
   ]
  },
  {
   "cell_type": "code",
   "execution_count": 27,
   "metadata": {},
   "outputs": [
    {
     "data": {
      "image/png": "[encoded data removed]",
      "text/plain": [
       "<Figure size 432x288 with 1 Axes>"
      ]
     },
     "metadata": {
      "needs_background": "light"
     },
     "output_type": "display_data"
    }
   ],
   "source": [
    "mesc=data[data['data']=='mesc']\n",
    "hct116=data[data['data']=='hct116']\n",
    "hek293t=data[data['data']=='hek293t']\n",
    "hela=data[data['data']=='hela']\n",
    "hl60=data[data['data']=='hl60']\n",
    "plt.plot([0.2,0.4,0.6,0.8],mesc['test_accuracy'],'-.',label='mesc')\n",
    "plt.plot([0.2,0.4,0.6,0.8],hct116['test_accuracy'],'-.',label='hct116')\n",
    "plt.plot([0.2,0.4,0.6,0.8],hek293t['test_accuracy'],'-.',label='hek293t')\n",
    "plt.plot([0.2,0.4,0.6,0.8],hela['test_accuracy'],'-.',label='hela')\n",
    "plt.plot([0.2,0.4,0.6,0.8],hl60['test_accuracy'],'-.',label='hl60')\n",
    "plt.legend()\n",
    "plt.grid()\n"
   ]
  },
  {
   "cell_type": "code",
   "execution_count": 28,
   "metadata": {},
   "outputs": [
    {
     "data": {
      "text/plain": [
       "[<matplotlib.lines.Line2D at 0x7f46d83b9d00>]"
      ]
     },
     "execution_count": 28,
     "metadata": {},
     "output_type": "execute_result"
    },
    {
     "data": {
      "image/png": "[encoded data removed]",
      "text/plain": [
       "<Figure size 432x288 with 1 Axes>"
      ]
     },
     "metadata": {
      "needs_background": "light"
     },
     "output_type": "display_data"
    }
   ],
   "source": [
    "plt.plot([0.2,0.4,0.6,0.8],mesc['nmi'],'-.',label='mesc')\n",
    "plt.plot([0.2,0.4,0.6,0.8],hct116['nmi'],'-.',label='hct116')\n",
    "plt.plot([0.2,0.4,0.6,0.8],hek293t['nmi'],'-.',label='hek293t')\n",
    "plt.plot([0.2,0.4,0.6,0.8],hela['nmi'],'-.',label='hela')\n",
    "plt.plot([0.2,0.4,0.6,0.8],hl60['nmi'],'-.',label='hl60')"
   ]
  },
  {
   "cell_type": "code",
   "execution_count": 34,
   "metadata": {},
   "outputs": [
    {
     "data": {
      "text/html": [
       "<div>\n",
       "<style scoped>\n",
       "    .dataframe tbody tr th:only-of-type {\n",
       "        vertical-align: middle;\n",
       "    }\n",
       "\n",
       "    .dataframe tbody tr th {\n",
       "        vertical-align: top;\n",
       "    }\n",
       "\n",
       "    .dataframe thead th {\n",
       "        text-align: right;\n",
       "    }\n",
       "</style>\n",
       "<table border=\"1\" class=\"dataframe\">\n",
       "  <thead>\n",
       "    <tr style=\"text-align: right;\">\n",
       "      <th></th>\n",
       "      <th>0</th>\n",
       "      <th>1</th>\n",
       "      <th>2</th>\n",
       "      <th>3</th>\n",
       "      <th>4</th>\n",
       "      <th>5</th>\n",
       "      <th>6</th>\n",
       "      <th>7</th>\n",
       "      <th>8</th>\n",
       "      <th>9</th>\n",
       "      <th>10</th>\n",
       "      <th>11</th>\n",
       "      <th>12</th>\n",
       "      <th>13</th>\n",
       "      <th>14</th>\n",
       "      <th>15</th>\n",
       "      <th>16</th>\n",
       "      <th>17</th>\n",
       "      <th>18</th>\n",
       "      <th>19</th>\n",
       "    </tr>\n",
       "  </thead>\n",
       "  <tbody>\n",
       "    <tr>\n",
       "      <th>nmi</th>\n",
       "      <td>0.0</td>\n",
       "      <td>0.0</td>\n",
       "      <td>0.0</td>\n",
       "      <td>0.0</td>\n",
       "      <td>0.0</td>\n",
       "      <td>0.005727</td>\n",
       "      <td>0.004111</td>\n",
       "      <td>0.002794</td>\n",
       "      <td>0.0</td>\n",
       "      <td>0.0</td>\n",
       "      <td>0.005516</td>\n",
       "      <td>0.0</td>\n",
       "      <td>0.0</td>\n",
       "      <td>0.0</td>\n",
       "      <td>0.000001</td>\n",
       "      <td>0.000806</td>\n",
       "      <td>0.0</td>\n",
       "      <td>0.0</td>\n",
       "      <td>0.0</td>\n",
       "      <td>0.0</td>\n",
       "    </tr>\n",
       "    <tr>\n",
       "      <th>data</th>\n",
       "      <td>mesc</td>\n",
       "      <td>mesc</td>\n",
       "      <td>mesc</td>\n",
       "      <td>mesc</td>\n",
       "      <td>hct116</td>\n",
       "      <td>hct116</td>\n",
       "      <td>hct116</td>\n",
       "      <td>hct116</td>\n",
       "      <td>hek293t</td>\n",
       "      <td>hek293t</td>\n",
       "      <td>hek293t</td>\n",
       "      <td>hek293t</td>\n",
       "      <td>hela</td>\n",
       "      <td>hela</td>\n",
       "      <td>hela</td>\n",
       "      <td>hela</td>\n",
       "      <td>hl60</td>\n",
       "      <td>hl60</td>\n",
       "      <td>hl60</td>\n",
       "      <td>hl60</td>\n",
       "    </tr>\n",
       "  </tbody>\n",
       "</table>\n",
       "</div>"
      ],
      "text/plain": [
       "        0     1     2     3       4         5         6         7        8   \\\n",
       "nmi    0.0   0.0   0.0   0.0     0.0  0.005727  0.004111  0.002794      0.0   \n",
       "data  mesc  mesc  mesc  mesc  hct116    hct116    hct116    hct116  hek293t   \n",
       "\n",
       "           9         10       11    12    13        14        15    16    17  \\\n",
       "nmi       0.0  0.005516      0.0   0.0   0.0  0.000001  0.000806   0.0   0.0   \n",
       "data  hek293t   hek293t  hek293t  hela  hela      hela      hela  hl60  hl60   \n",
       "\n",
       "        18    19  \n",
       "nmi    0.0   0.0  \n",
       "data  hl60  hl60  "
      ]
     },
     "execution_count": 34,
     "metadata": {},
     "output_type": "execute_result"
    }
   ],
   "source": [
    "data.drop(columns=['test_accuracy']).T"
   ]
  },
  {
   "cell_type": "code",
   "execution_count": 40,
   "metadata": {},
   "outputs": [],
   "source": [
    "percent=[20,40,60,80]*5"
   ]
  },
  {
   "cell_type": "code",
   "execution_count": 41,
   "metadata": {},
   "outputs": [],
   "source": [
    "data['epoch']=percent"
   ]
  },
  {
   "cell_type": "code",
   "execution_count": 54,
   "metadata": {},
   "outputs": [],
   "source": [
    "data.drop(columns=['test_accuracy']).groupby(['data','epoch']).mean().to_excel('nmi.xlsx')"
   ]
  },
  {
   "cell_type": "code",
   "execution_count": 2,
   "metadata": {},
   "outputs": [],
   "source": [
    "# -*- coding:utf-8 -*-\n",
    "\n",
    "import os\n",
    "os.environ[\"CUDA_VISIBLE_DEVICES\"] = \"0\"\n",
    "\n",
    "# import tensorflow as tf\n",
    "# import keras.backend.tensorflow_backend as KTF\n",
    "#\n",
    "# config = tf.ConfigProto()\n",
    "# config.gpu_options.per_process_gpu_memory_fraction = 0.95\n",
    "# session = tf.Session(config=config)\n",
    "#\n",
    "# KTF.set_session(session)\n",
    "\n",
    "from keras.models import Model\n",
    "from keras.layers import Input\n",
    "from keras.layers.core import Dense, Dropout, Activation, Flatten\n",
    "from keras.layers.convolutional import Convolution1D, AveragePooling1D\n",
    "from keras.layers.merge import concatenate\n",
    "import numpy as np\n",
    "import pandas as pd\n",
    "from sklearn.svm import SVR\n",
    "import scipy.stats as stats\n",
    "\n",
    "\n",
    "def grna_preprocess(lines):\n",
    "    length = 23\n",
    "    data_n = len(lines)\n",
    "    seq = np.zeros((data_n, length, 4), dtype=int)\n",
    "    for l in range(data_n):\n",
    "        data = lines[l]\n",
    "        seq_temp = data\n",
    "        for i in range(length):\n",
    "            if seq_temp[i] in \"Aa\":\n",
    "                seq[l, i, 0] = 1\n",
    "            elif seq_temp[i] in \"Cc\":\n",
    "                seq[l, i, 1] = 1\n",
    "            elif seq_temp[i] in \"Gg\":\n",
    "                seq[l, i, 2] = 1\n",
    "            elif seq_temp[i] in \"Tt\":\n",
    "                seq[l, i, 3] = 1\n",
    "    return seq\n",
    "\n",
    "\n",
    "def epi_preprocess(lines):\n",
    "    length = 23\n",
    "    data_n = len(lines)\n",
    "    epi = np.zeros((data_n, length), dtype=int)\n",
    "    for l in range(data_n):\n",
    "        data = lines[l]\n",
    "        epi_temp = data\n",
    "        for i in range(length):\n",
    "            if epi_temp[i] in \"A\":\n",
    "                epi[l, i] = 1\n",
    "            elif epi_temp[i] in \"N\":\n",
    "                epi[l, i] = 0\n",
    "    return epi\n",
    "\n",
    "\n",
    "def preprocess(file_path, usecols):\n",
    "    data = pd.read_csv(file_path, usecols=usecols)\n",
    "    data = np.array(data)\n",
    "    ctcf, dnase, h3k4me3, rrbs = epi_preprocess(data[:, 0]), epi_preprocess(data[:, 1]), epi_preprocess(data[:, 2]), epi_preprocess(data[:, 3])\n",
    "    epi = []\n",
    "    for i in range(len(data)):\n",
    "        ctcf_t, dnase_t, h3k4me3_t, rrbs_t = pd.DataFrame(ctcf[i]), pd.DataFrame(dnase[i]), pd.DataFrame(h3k4me3[i]), pd.DataFrame(rrbs[i])\n",
    "        epi_t = pd.concat([ctcf_t, dnase_t, h3k4me3_t, rrbs_t], axis=1)\n",
    "        epi_t = np.array(epi_t)\n",
    "        epi.append(epi_t)\n",
    "    epi = np.array(epi)\n",
    "    return epi\n",
    "\n",
    "\n",
    "def load_data(train_file, test_file):\n",
    "    train_data = pd.read_csv(train_file, usecols=[4, 9])\n",
    "    train_data = np.array(train_data)\n",
    "    train_seq, train_y = train_data[:, 0], train_data[:, 1]\n",
    "    train_seq = grna_preprocess(train_seq)\n",
    "    train_epi = preprocess(train_file, [5, 6, 7, 8])\n",
    "    train_y = train_y.reshape(len(train_y), -1)\n",
    "\n",
    "    test_data = pd.read_csv(test_file, usecols=[4, 9])\n",
    "    test_data = np.array(test_data)\n",
    "    test_seq, test_y = test_data[:, 0], test_data[:, 1]\n",
    "    test_seq = grna_preprocess(test_seq)\n",
    "    test_epi = preprocess(test_file, [5, 6, 7, 8])\n",
    "    test_y = test_y.reshape(len(test_y), -1)\n",
    "    return train_seq, test_seq, train_epi, test_epi, train_y, test_y\n",
    "from sklearn.svm import SVC\n",
    "\n",
    "# Build model\n",
    "def build_model():\n",
    "    dropout = 0.3\n",
    "    seq_input = Input(shape=(23, 4))\n",
    "    seq_conv1 = Convolution1D(256, 5, kernel_initializer='glorot_uniform', name='seq_conv_1')(seq_input)\n",
    "    seq_act1 = Activation('relu', name='seq_activation1')(seq_conv1)\n",
    "    seq_pool1 = AveragePooling1D(2, name='seq_pooling_1')(seq_act1)\n",
    "    seq_drop1 = Dropout(dropout)(seq_pool1)\n",
    "\n",
    "    seq_conv2 = Convolution1D(256, 5, kernel_initializer='glorot_uniform', name='seq_conv_2')(seq_drop1)\n",
    "    seq_act2 = Activation('relu', name='seq_activation_2')(seq_conv2)\n",
    "    seq_pool2 = AveragePooling1D(2, name='seq_pooling_2')(seq_act2)\n",
    "    seq_drop2 = Dropout(dropout)(seq_pool2)\n",
    "    seq_flat = Flatten()(seq_drop2)\n",
    "\n",
    "    seq_dense1 = Dense(256, activation='relu', name='seq_dense_1')(seq_flat)\n",
    "    seq_drop3 = Dropout(dropout)(seq_dense1)\n",
    "    seq_dense2 = Dense(128, activation='relu', name='seq_dense_2')(seq_drop3)\n",
    "    seq_drop4 = Dropout(dropout)(seq_dense2)\n",
    "    seq_dense3 = Dense(64, activation='relu', name='seq_dense_3')(seq_drop4)\n",
    "    seq_drop5 = Dropout(dropout)(seq_dense3)\n",
    "    seq_out = Dense(40, activation='relu', name='seq_dense_4')(seq_drop5)\n",
    "\n",
    "    epi_input = Input(shape=(23, 4))\n",
    "    epi_conv1 = Convolution1D(256, 5, kernel_initializer='glorot_uniform', name='epi_conv_1')(epi_input)\n",
    "    epi_act1 = Activation('relu', name='epi_activation_1')(epi_conv1)\n",
    "    epi_pool1 = AveragePooling1D(2, name='epi_pooling_1')(epi_act1)\n",
    "    epi_drop1 = Dropout(dropout)(epi_pool1)\n",
    "\n",
    "    epi_conv2 = Convolution1D(256, 5, kernel_initializer='glorot_uniform', name='epi_conv_2')(epi_drop1)\n",
    "    epi_act2 = Activation('relu', name='epi_activation_2')(epi_conv2)\n",
    "    epi_pool2 = AveragePooling1D(2, name='epi_pooling_2')(epi_act2)\n",
    "    epi_drop2 = Dropout(dropout)(epi_pool2)\n",
    "    epi_flat = Flatten()(epi_drop2)\n",
    "\n",
    "    epi_dense1 = Dense(256, activation='relu', name='epi_dense_1')(epi_flat)\n",
    "    epi_drop3 = Dropout(dropout)(epi_dense1)\n",
    "    epi_dense2 = Dense(128, activation='relu', name='epi_dense_2')(epi_drop3)\n",
    "    epi_drop4 = Dropout(dropout)(epi_dense2)\n",
    "    epi_dense3 = Dense(64, activation='relu', name='epi_dense_3')(epi_drop4)\n",
    "    epi_drop5 = Dropout(dropout)(epi_dense3)\n",
    "    epi_out = Dense(40, activation='relu', name='epi_dense_4')(epi_drop5)\n",
    "\n",
    "    merged = concatenate([seq_out, epi_out], axis=-1)\n",
    "\n",
    "    pretrain_model = Model(inputs=[seq_input, epi_input], outputs=[merged])\n",
    "\n",
    "    # Load weights for the model\n",
    "    pretrain_model.load_weights(\"weights.h5\", by_name=True)\n",
    "\n",
    "    prediction = Dense(1, activation='linear', name='prediction')(merged)\n",
    "    model = Model([seq_input, epi_input], prediction)\n",
    "    return merged, model\n",
    "\n",
    "\n",
    "\n",
    "    # Calculate Spearman correlation coefficient\n",
    "    # Spearman_correlation, _ = stats.stats.spearmanr(y_test, y_pred)\n",
    "\n",
    "    # Print Spearman correlation result\n",
    "    # print(\"Spearman correlation=%.3f\" % (Spearman_correlation))\n",
    "\n",
    "\n",
    "\n",
    "\n",
    "\n",
    "\n",
    "\n",
    "\n",
    "\n",
    "\n",
    "\n",
    "\n",
    "\n",
    "\n",
    "\n",
    "\n",
    "\n",
    "\n",
    "\n",
    "\n",
    "\n",
    "\n",
    "\n",
    "\n",
    "\n",
    "\n",
    "\n",
    "\n",
    "\n",
    "\n"
   ]
  },
  {
   "cell_type": "code",
   "execution_count": 3,
   "metadata": {},
   "outputs": [],
   "source": [
    "def test_method(df):    \n",
    "    metric = [] \n",
    "    scaler = MinMaxScaler()\n",
    "\n",
    "    GC_count = [] \n",
    "    GC_content = [] \n",
    "    for seq in df['seq']:\n",
    "        count,content = countGC(seq)\n",
    "        GC_count.append(count)\n",
    "        GC_content.append(content)\n",
    "    psn_1 = [] \n",
    "    nc_1 = [] \n",
    "    for seq in df['seq']:\n",
    "        nuc,pos = ncf(seq,1)\n",
    "        psn_1.append(pos)\n",
    "        nc_1.append(nuc)\n",
    "    nc_11=[i.flatten() for i in nc_1]\n",
    "    psn_2 = [] \n",
    "    nc_2 = [] \n",
    "    for seq in df['seq']:\n",
    "        nuc2,pos2  = ncf(seq,2)\n",
    "        psn_2.append(pos2)\n",
    "        nc_2.append(nuc2)\n",
    "    nc_21=[i.flatten() for i in nc_2]\n",
    "\n",
    "    psn_3 = [] \n",
    "    nc_3 = [] \n",
    "    for seq in df['seq']:\n",
    "        nuc3,pos3 = ncf(seq,3)\n",
    "        psn_3.append(pos3)\n",
    "        nc_3.append(nuc3)\n",
    "    nc_31=[i.flatten() for i in nc_3]\n",
    "\n",
    "    TMs =[]\n",
    "    for seq in df['seq']: \n",
    "        TM = TM_cal(seq)\n",
    "        TMs.append(TM)\n",
    "    TMS=[i.flatten() for i in TMs]\n",
    "\n",
    "    alpStat = [] \n",
    "    for seq in df['seq']: \n",
    "        al = binary_seqs(seq)\n",
    "        alpStat.append(al)\n",
    "    temp= [i.T for i in alpStat]\n",
    "    alpha = [i.flatten() for i in temp]\n",
    "    Trs = []\n",
    "    ETs = []\n",
    "    for seq in alpStat: \n",
    "        tr,et = TranEmis(seq.T,1)\n",
    "        Trs.append(tr)\n",
    "        ETs.append(et)\n",
    "    df['GCcount']=GC_count\n",
    "    df['GC_content']=GC_content\n",
    "    d=pd.get_dummies(df['data'])\n",
    "    # d2=pd.get_dummies(df['score'],prefix=\"label\")\n",
    "    d3=pd.DataFrame(nc_11).add_prefix('nc1')\n",
    "    d4=pd.DataFrame(psn_1).add_prefix('psn1')\n",
    "    d5=pd.DataFrame(nc_21).add_prefix('nc2')\n",
    "    d6=pd.DataFrame(psn_2).add_prefix('psn2')\n",
    "    d7=pd.DataFrame(nc_31).add_prefix('nc3')\n",
    "    d8=pd.DataFrame(psn_3).add_prefix('psn3')\n",
    "    d9=pd.DataFrame(TMS).add_prefix('tms')\n",
    "    d10=pd.DataFrame(alpha).add_prefix('alpStat')\n",
    "    df_concat = pd.concat([df,d,d3,d4,d5,d6,d7,d8,d9,d10],axis=1)\n",
    "    data = df_concat.drop_duplicates(subset=['seq','label'])\n",
    "    data = data.fillna(1)\n",
    "    # Resampling \n",
    "    count_class_1, count_class_0 = data.label.value_counts()\n",
    "    df_class_0 = data[data['label'] == 0]\n",
    "    df_class_1 = data[data['label'] == 1]\n",
    "    df_class_1_under = df_class_1.sample(count_class_0)\n",
    "    df_test_under = pd.concat([df_class_1_under, df_class_0], axis=0)\n",
    "    df_test_under = df_test_under.sample(frac=1).reset_index()\n",
    "    X = df_test_under.drop(columns=['seq','label','data']).values\n",
    "    X = normalize(X)\n",
    "    X_train = deepcopy(X)\n",
    "    layers = [100,50,2]\n",
    "    Y = df_test_under[['label']].values\n",
    "    matrix = SNMF(X, Y, layers=layers, k=3, option='b')\n",
    "    matrix.compute_factors(random_init=True)\n",
    "    matrix.collector.drop(columns=['index'], inplace=True)\n",
    "    return matrix"
   ]
  },
  {
   "cell_type": "code",
   "execution_count": 5,
   "metadata": {},
   "outputs": [
    {
     "name": "stdout",
     "output_type": "stream",
     "text": [
      "g shape: (2129, 1904)\n",
      "0.47535596933187296\n"
     ]
    }
   ],
   "source": [
    "# df_1= pd.read_excel(path+\"/maindata.xlsx\",sheet_name=0) #read mesc\n",
    "# df_2 = pd.read_excel(path+\"/maindata.xlsx\",sheet_name=1) #read hl60\n",
    "# df_3 = pd.read_excel(path+\"/maindata.xlsx\",sheet_name=2) #read hela_hart\n",
    "# df_4 = pd.read_excel(path+\"/maindata.xlsx\",sheet_name=3) #read HEK293T\n",
    "df_5 = pd.read_excel(path+\"/maindata.xlsx\",sheet_name=4) #read HCT116\n",
    "# df=pd.concat([df_1,df_2,df_3,df_4,df_5]).reset_index().drop(columns=['index'])\n",
    "# # df=pd.concat([df_1,df_2]).reset_index().drop(columns=['index'])\n",
    "# df=df.drop_duplicates(subset=['seq','label'])\n",
    "\n",
    "if __name__ == '__main__':\n",
    "\n",
    "    train_path = \"/home/stephenvu/Downloads/CNN-SVR/data/training_example.csv\"\n",
    "    test_path = \"/home/stephenvu/Downloads/CNN-SVR/data/testing_example.csv\"\n",
    "\n",
    "    # Load data\n",
    "    seq_train, seq_test, epi_train, epi_test, y_train, y_test = load_data(train_path, test_path)\n",
    "    matrix = test_method(df_5)\n",
    "    merged, model = build_model()\n",
    "\n",
    "    new_model = Model(model.inputs, outputs=[merged])\n",
    "    x_train = new_model.predict([seq_train, epi_train])\n",
    "    x_test = new_model.predict([seq_test, epi_test])\n",
    "\n",
    "    x_train, x_test = np.array(x_train), np.array(x_test)\n",
    "\n",
    "    # Select important features from initial CNN features\n",
    "    selected_cnn_fea_cols = [17, 26, 9, 19, 30, 6, 12, 39, 36, 21, 22, 3, 25]\n",
    "    x_train = x_train[:, selected_cnn_fea_cols]\n",
    "    x_test = x_test[:, selected_cnn_fea_cols]\n",
    "\n",
    "    y_train = np.array(y_train).ravel()\n",
    "    y_test = np.array(y_test).ravel()\n",
    "\n",
    "    clf = SVC(kernel=\"rbf\", gamma=0.12, C=1.7)\n",
    "    \n",
    "    # Fit the SVR model according to the given training data\n",
    "    clf.fit(matrix.X.T, matrix.Y.T.flatten())\n",
    "\n",
    "    # Perform regression on samples in x_test\n",
    "    y_pred = clf.predict(matrix.X2.T)\n",
    "    print(accuracy_score(matrix.Y2.T.flatten(),y_pred))\n"
   ]
  },
  {
   "cell_type": "code",
   "execution_count": null,
   "metadata": {},
   "outputs": [],
   "source": []
  }
 ],
 "metadata": {
  "interpreter": {
   "hash": "9752f58a5b604238ff8d1016eba77c7827bbfbd574e79198e1a58678e526a860"
  },
  "kernelspec": {
   "display_name": "Python 3.8.5 64-bit ('base': conda)",
   "name": "python3"
  },
  "language_info": {
   "codemirror_mode": {
    "name": "ipython",
    "version": 3
   },
   "file_extension": ".py",
   "mimetype": "text/x-python",
   "name": "python",
   "nbconvert_exporter": "python",
   "pygments_lexer": "ipython3",
   "version": "3.8.5"
  },
  "orig_nbformat": 4
 },
 "nbformat": 4,
 "nbformat_minor": 2
}
