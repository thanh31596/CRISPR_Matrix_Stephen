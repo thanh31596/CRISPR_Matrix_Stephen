{
 "cells": [
  {
   "cell_type": "code",
   "execution_count": 9,
   "metadata": {},
   "outputs": [],
   "source": [
    "# Import data\n",
    "import pandas as pd\n",
    "from sklearn.metrics import accuracy_score,auc\n",
    "path='/home/stephenvu/Downloads/712_code/'\n",
    "from sklearn.svm import SVC\n",
    "from keras.models import Model\n",
    "from keras.layers import Input\n",
    "from keras.layers.core import Dense, Dropout, Activation, Flatten\n",
    "from keras.layers.convolutional import Convolution1D, AveragePooling1D\n",
    "from keras.layers.merge import concatenate\n",
    "import numpy as np\n",
    "import pandas as pd\n",
    "from sklearn.svm import SVR\n",
    "import scipy.stats as stats"
   ]
  },
  {
   "cell_type": "markdown",
   "metadata": {},
   "source": []
  },
  {
   "cell_type": "code",
   "execution_count": 2,
   "metadata": {},
   "outputs": [],
   "source": [
    "\n",
    "df_1= pd.read_excel(path+\"/maindata.xlsx\",sheet_name=0) #read mesc\n",
    "df_2 = pd.read_excel(path+\"/maindata.xlsx\",sheet_name=1) #read hl60\n",
    "df_3 = pd.read_excel(path+\"/maindata.xlsx\",sheet_name=2) #read hela_hart\n",
    "df_4 = pd.read_excel(path+\"/maindata.xlsx\",sheet_name=3) #read HEK293T\n",
    "df_5 = pd.read_excel(path+\"/maindata.xlsx\",sheet_name=4) #read HCT116\n",
    "# df=pd.concat([df_1,df_2,df_3,df_4,df_5]).reset_index().drop(columns=['index'])\n",
    "# # df=pd.concat([df_1,df_2]).reset_index().drop(columns=['index'])\n",
    "# df=df.drop_duplicates(subset=['seq','label'])\n"
   ]
  },
  {
   "cell_type": "markdown",
   "metadata": {},
   "source": [
    "# First method: SGRNA-Design from Doench,2014"
   ]
  },
  {
   "cell_type": "code",
   "execution_count": 3,
   "metadata": {},
   "outputs": [],
   "source": [
    "# This is a 13 line python function to calculate the sgRNA on-target efficacy score from the article\n",
    "# \"Rational design of highly active sgRNAs for CRISPR-Cas9–mediated gene inactivation\"\n",
    "# by J Doench et al. 2014\n",
    "# The authors' web tool is available at http://www.broadinstitute.org/rnai/public/analysis-tools/sgrna-design\n",
    "# Thanks to Cameron Mac Pherson at Pasteur Paris for fixing my original version. Maximilian Haeussler 2014\n",
    " \n",
    "import math\n",
    " \n",
    "params = [\n",
    "# pasted/typed table from PDF and converted to zero-based positions\n",
    "(1,'G',-0.2753771),(2,'A',-0.3238875),(2,'C',0.17212887),(3,'C',-0.1006662),\n",
    "(4,'C',-0.2018029),(4,'G',0.24595663),(5,'A',0.03644004),(5,'C',0.09837684),\n",
    "(6,'C',-0.7411813),(6,'G',-0.3932644),(11,'A',-0.466099),(14,'A',0.08537695),\n",
    "(14,'C',-0.013814),(15,'A',0.27262051),(15,'C',-0.1190226),(15,'T',-0.2859442),\n",
    "(16,'A',0.09745459),(16,'G',-0.1755462),(17,'C',-0.3457955),(17,'G',-0.6780964),\n",
    "(18,'A',0.22508903),(18,'C',-0.5077941),(19,'G',-0.4173736),(19,'T',-0.054307),\n",
    "(20,'G',0.37989937),(20,'T',-0.0907126),(21,'C',0.05782332),(21,'T',-0.5305673),\n",
    "(22,'T',-0.8770074),(23,'C',-0.8762358),(23,'G',0.27891626),(23,'T',-0.4031022),\n",
    "(24,'A',-0.0773007),(24,'C',0.28793562),(24,'T',-0.2216372),(27,'G',-0.6890167),\n",
    "(27,'T',0.11787758),(28,'C',-0.1604453),(29,'G',0.38634258),(1,'GT',-0.6257787),\n",
    "(4,'GC',0.30004332),(5,'AA',-0.8348362),(5,'TA',0.76062777),(6,'GG',-0.4908167),\n",
    "(11,'GG',-1.5169074),(11,'TA',0.7092612),(11,'TC',0.49629861),(11,'TT',-0.5868739),\n",
    "(12,'GG',-0.3345637),(13,'GA',0.76384993),(13,'GC',-0.5370252),(16,'TG',-0.7981461),\n",
    "(18,'GG',-0.6668087),(18,'TC',0.35318325),(19,'CC',0.74807209),(19,'TG',-0.3672668),\n",
    "(20,'AC',0.56820913),(20,'CG',0.32907207),(20,'GA',-0.8364568),(20,'GG',-0.7822076),\n",
    "(21,'TC',-1.029693),(22,'CG',0.85619782),(22,'CT',-0.4632077),(23,'AA',-0.5794924),\n",
    "(23,'AG',0.64907554),(24,'AG',-0.0773007),(24,'CG',0.28793562),(24,'TG',-0.2216372),\n",
    "(26,'GT',0.11787758),(28,'GG',-0.69774)]\n",
    " \n",
    "intercept =  0.59763615\n",
    "gcHigh    = -0.1665878\n",
    "gcLow     = -0.2026259\n",
    " \n",
    "def calcDoenchScore(seq):\n",
    "    score = intercept\n",
    " \n",
    "    guideSeq = seq[4:24]\n",
    "    gcCount = guideSeq.count(\"G\") + guideSeq.count(\"C\")\n",
    "    if gcCount <= 10:\n",
    "        gcWeight = gcLow\n",
    "    if gcCount > 10:\n",
    "        gcWeight = gcHigh\n",
    "    score += abs(10-gcCount)*gcWeight\n",
    " \n",
    "    for pos, modelSeq, weight in params:\n",
    "        subSeq = seq[pos:pos+len(modelSeq)]\n",
    "        if subSeq==modelSeq:\n",
    "            score += weight\n",
    "    return 1.0/(1.0+math.exp(-score))\n",
    " \n",
    "def validate_data1(df): \n",
    "    result = []\n",
    "    for i in df['seq']: \n",
    "        score = calcDoenchScore(i)\n",
    "        if score>0.5: \n",
    "            result.append(1)\n",
    "        else: \n",
    "            result.append(0)\n",
    "    df['doench_2014'] = result \n",
    "    return df "
   ]
  },
  {
   "cell_type": "code",
   "execution_count": 5,
   "metadata": {},
   "outputs": [
    {
     "data": {
      "text/html": [
       "<div>\n",
       "<style scoped>\n",
       "    .dataframe tbody tr th:only-of-type {\n",
       "        vertical-align: middle;\n",
       "    }\n",
       "\n",
       "    .dataframe tbody tr th {\n",
       "        vertical-align: top;\n",
       "    }\n",
       "\n",
       "    .dataframe thead th {\n",
       "        text-align: right;\n",
       "    }\n",
       "</style>\n",
       "<table border=\"1\" class=\"dataframe\">\n",
       "  <thead>\n",
       "    <tr style=\"text-align: right;\">\n",
       "      <th></th>\n",
       "      <th>seq</th>\n",
       "      <th>data</th>\n",
       "      <th>label</th>\n",
       "      <th>doench_2014</th>\n",
       "    </tr>\n",
       "  </thead>\n",
       "  <tbody>\n",
       "    <tr>\n",
       "      <th>0</th>\n",
       "      <td>TTGGTGATGCTCACGAACGATGG</td>\n",
       "      <td>mesc</td>\n",
       "      <td>1</td>\n",
       "      <td>1</td>\n",
       "    </tr>\n",
       "    <tr>\n",
       "      <th>1</th>\n",
       "      <td>AGTGCAGCTGGATGCGCCCGTGG</td>\n",
       "      <td>mesc</td>\n",
       "      <td>1</td>\n",
       "      <td>0</td>\n",
       "    </tr>\n",
       "    <tr>\n",
       "      <th>2</th>\n",
       "      <td>CTGCAATGACGAGGGTGCCCTGG</td>\n",
       "      <td>mesc</td>\n",
       "      <td>1</td>\n",
       "      <td>0</td>\n",
       "    </tr>\n",
       "    <tr>\n",
       "      <th>3</th>\n",
       "      <td>AACCTGGACCCCGCTAACGACGG</td>\n",
       "      <td>mesc</td>\n",
       "      <td>1</td>\n",
       "      <td>1</td>\n",
       "    </tr>\n",
       "    <tr>\n",
       "      <th>4</th>\n",
       "      <td>TTACGAGTGTGCGGTGGACGTGG</td>\n",
       "      <td>mesc</td>\n",
       "      <td>1</td>\n",
       "      <td>0</td>\n",
       "    </tr>\n",
       "    <tr>\n",
       "      <th>...</th>\n",
       "      <td>...</td>\n",
       "      <td>...</td>\n",
       "      <td>...</td>\n",
       "      <td>...</td>\n",
       "    </tr>\n",
       "    <tr>\n",
       "      <th>4234</th>\n",
       "      <td>CACACAGTGTCCAGATACGAGGG</td>\n",
       "      <td>hct116</td>\n",
       "      <td>1</td>\n",
       "      <td>0</td>\n",
       "    </tr>\n",
       "    <tr>\n",
       "      <th>4235</th>\n",
       "      <td>CCAAATCCCAAACCTTACCCTGG</td>\n",
       "      <td>hct116</td>\n",
       "      <td>1</td>\n",
       "      <td>0</td>\n",
       "    </tr>\n",
       "    <tr>\n",
       "      <th>4236</th>\n",
       "      <td>CATCGATGTGTGCTGTGGCCAGG</td>\n",
       "      <td>hct116</td>\n",
       "      <td>0</td>\n",
       "      <td>0</td>\n",
       "    </tr>\n",
       "    <tr>\n",
       "      <th>4237</th>\n",
       "      <td>GCTCTTGGAGATGTACAGGAAGG</td>\n",
       "      <td>hct116</td>\n",
       "      <td>1</td>\n",
       "      <td>0</td>\n",
       "    </tr>\n",
       "    <tr>\n",
       "      <th>4238</th>\n",
       "      <td>GATGGAAATGGGCTTCCGCATGG</td>\n",
       "      <td>hct116</td>\n",
       "      <td>1</td>\n",
       "      <td>0</td>\n",
       "    </tr>\n",
       "  </tbody>\n",
       "</table>\n",
       "<p>17771 rows × 4 columns</p>\n",
       "</div>"
      ],
      "text/plain": [
       "                          seq    data  label  doench_2014\n",
       "0     TTGGTGATGCTCACGAACGATGG    mesc      1            1\n",
       "1     AGTGCAGCTGGATGCGCCCGTGG    mesc      1            0\n",
       "2     CTGCAATGACGAGGGTGCCCTGG    mesc      1            0\n",
       "3     AACCTGGACCCCGCTAACGACGG    mesc      1            1\n",
       "4     TTACGAGTGTGCGGTGGACGTGG    mesc      1            0\n",
       "...                       ...     ...    ...          ...\n",
       "4234  CACACAGTGTCCAGATACGAGGG  hct116      1            0\n",
       "4235  CCAAATCCCAAACCTTACCCTGG  hct116      1            0\n",
       "4236  CATCGATGTGTGCTGTGGCCAGG  hct116      0            0\n",
       "4237  GCTCTTGGAGATGTACAGGAAGG  hct116      1            0\n",
       "4238  GATGGAAATGGGCTTCCGCATGG  hct116      1            0\n",
       "\n",
       "[17771 rows x 4 columns]"
      ]
     },
     "execution_count": 5,
     "metadata": {},
     "output_type": "execute_result"
    }
   ],
   "source": [
    "df_1=validate_data1(df_1) \n",
    "df_2=validate_data1(df_2) \n",
    "df_3=validate_data1(df_3) \n",
    "df_4=validate_data1(df_4) \n",
    "df_5=validate_data1(df_5) \n",
    "con1 = pd.concat([df_1,df_2,df_3,df_4,df_5])\n",
    "con1"
   ]
  },
  {
   "cell_type": "code",
   "execution_count": null,
   "metadata": {},
   "outputs": [],
   "source": []
  },
  {
   "cell_type": "code",
   "execution_count": 11,
   "metadata": {},
   "outputs": [
    {
     "name": "stdout",
     "output_type": "stream",
     "text": [
      "0.7005870841487281\n",
      "0.6748554913294798\n",
      "0.6086902851499815\n",
      "0.5636519502786113\n",
      "0.6117008728473696\n"
     ]
    }
   ],
   "source": [
    "print(1-accuracy_score(df_1['label'],df_1['doench_2014']))\n",
    "print(1-accuracy_score(df_2['label'],df_2['doench_2014']))\n",
    "print(1-accuracy_score(df_3['label'],df_3['doench_2014']))\n",
    "print(1-accuracy_score(df_4['label'],df_4['doench_2014']))\n",
    "print(1-accuracy_score(df_5['label'],df_5['doench_2014']))\n",
    "from sklearn.metrics import roc_curve,roc_auc_score\n"
   ]
  },
  {
   "cell_type": "code",
   "execution_count": 13,
   "metadata": {},
   "outputs": [
    {
     "data": {
      "image/png": "[encoded data removed]",
      "text/plain": [
       "<Figure size 432x288 with 1 Axes>"
      ]
     },
     "metadata": {
      "needs_background": "light"
     },
     "output_type": "display_data"
    }
   ],
   "source": []
  },
  {
   "cell_type": "markdown",
   "metadata": {},
   "source": [
    "# 2. CRISPR-SCAN"
   ]
  },
  {
   "cell_type": "code",
   "execution_count": 14,
   "metadata": {},
   "outputs": [],
   "source": [
    "paramsCRISPRscan = [\n",
    "# converted excel table of logistic regression weights with 1-based positions\n",
    "('AA',18,-0.097377097),\n",
    "('TT',18,-0.094424075),('TT',13,-0.08618771),('CT',26,-0.084264893),('GC',25,-0.073453609),\n",
    "('T',21,-0.068730497),('TG',23,-0.066388075),('AG',23,-0.054338456),('G',30,-0.046315914),\n",
    "('A',4,-0.042153521),('AG',34,-0.041935908),('GA',34,-0.037797707),('A',18,-0.033820432),\n",
    "('C',25,-0.031648353),('C',31,-0.030715556),('G',1,-0.029693709),('C',16,-0.021638609),\n",
    "('A',14,-0.018487229),('A',11,-0.018287292),('T',34,-0.017647692),('AA',10,-0.016905415),\n",
    "('A',19,-0.015576499),('G',34,-0.014167123),('C',30,-0.013182733),('GA',31,-0.01227989),\n",
    "('T',24,-0.011996172),('A',15,-0.010595296),('G',4,-0.005448869),('GG',9,-0.00157799),\n",
    "('T',23,-0.001422243),('C',15,-0.000477727),('C',26,-0.000368973),('T',27,-0.000280845),\n",
    "('A',31,0.00158975),('GT',18,0.002391744),('C',9,0.002449224),('GA',20,0.009740799),\n",
    "('A',25,0.010506405),('A',12,0.011633235),('A',32,0.012435231),('T',22,0.013224035),\n",
    "('C',20,0.015089514),('G',17,0.01549378),('G',18,0.016457816),('T',30,0.017263162),\n",
    "('A',13,0.017628924),('G',19,0.017916844),('A',27,0.019126815),('G',11,0.020929039),\n",
    "('TG',3,0.022949996),('GC',3,0.024681785),('G',14,0.025116714),('GG',10,0.026802158),\n",
    "('G',12,0.027591138),('G',32,0.03071249),('A',22,0.031930909),('G',20,0.033957008),\n",
    "('C',21,0.034262921),('TT',17,0.03492881),('T',13,0.035445171),('G',26,0.036146649),\n",
    "('A',24,0.037466478),('C',22,0.03763162),('G',16,0.037970942),('GG',12,0.041883009),\n",
    "('TG',18,0.045908991),('TG',31,0.048136812),('A',35,0.048596259),('G',15,0.051129717),\n",
    "('C',24,0.052972314),('TG',15,0.053372822),('GT',11,0.053678436),('GC',9,0.054171402),\n",
    "('CA',30,0.057759851),('GT',24,0.060952114),('G',13,0.061360905),('CA',24,0.06221937),\n",
    "('AG',10,0.063717093),('G',10,0.067739182),('C',13,0.069495944),('GT',31,0.07342535),\n",
    "('GG',13,0.074355848),('C',27,0.079933922),('G',27,0.085151052),('CC',21,0.088919601),\n",
    "('CC',23,0.095072286),('G',22,0.10114438),('G',24,0.105488325),('GT',23,0.106718563),\n",
    "('GG',25,0.111559441),('G',9,0.114600681)]\n",
    "\n",
    "def calcCrisprScanScores(seqs):\n",
    "    \"\"\" input is a 35bp long sequence: 6bp 5', 20bp guide, 3 bp PAM and 6bp 3'\n",
    "    >>> calcCrisprScanScores([\"TCCTCTGGTGGCGCTGCTGGATGGACGGGACTGTA\"])\n",
    "    [77]\n",
    "    >>> calcCrisprScanScores([\"TCCTCTNGTGGCGCTGCTGGATGGACGGGACTGTA\"])\n",
    "    [77]\n",
    "    \"\"\"\n",
    "    scores = []\n",
    "    for seq in seqs:\n",
    "        #assert(len(seq)==35)\n",
    "        intercept = 0.183930943629\n",
    "        score = intercept\n",
    "        for modelSeq, pos, weight in paramsCRISPRscan:\n",
    "            subSeq = seq[pos-1:pos+len(modelSeq)-1]\n",
    "            if subSeq==modelSeq:\n",
    "                score += weight\n",
    "        scores.append(score)\n",
    "    return scores\n",
    "def validate_data2(df): \n",
    "    result = []\n",
    "    scores = calcCrisprScanScores(df['seq'])\n",
    "    for score in scores:\n",
    "        if score>0.5: \n",
    "            result.append(1)\n",
    "        else: \n",
    "            result.append(0)\n",
    "    df['crisprscan'] = result \n",
    "    return df "
   ]
  },
  {
   "cell_type": "code",
   "execution_count": 15,
   "metadata": {},
   "outputs": [
    {
     "name": "stdout",
     "output_type": "stream",
     "text": [
      "0.6311154598825832\n",
      "0.569364161849711\n",
      "0.5756079496358475\n",
      "0.5383626232318903\n",
      "0.5902335456475584\n"
     ]
    }
   ],
   "source": [
    "df_1=validate_data2(df_1) \n",
    "df_2=validate_data2(df_2) \n",
    "df_3=validate_data2(df_3) \n",
    "df_4=validate_data2(df_4) \n",
    "df_5=validate_data2(df_5) \n",
    "print(1-accuracy_score(df_1['label'],df_1['crisprscan']))\n",
    "print(1-accuracy_score(df_2['label'],df_2['crisprscan']))\n",
    "print(1-accuracy_score(df_3['label'],df_3['crisprscan']))\n",
    "print(1-accuracy_score(df_4['label'],df_4['crisprscan']))\n",
    "print(1-accuracy_score(df_5['label'],df_5['crisprscan']))\n"
   ]
  },
  {
   "cell_type": "markdown",
   "metadata": {},
   "source": [
    "# 3. SSC SCORE"
   ]
  },
  {
   "cell_type": "markdown",
   "metadata": {},
   "source": [
    "df_1['seq'][0]"
   ]
  },
  {
   "cell_type": "code",
   "execution_count": 16,
   "metadata": {},
   "outputs": [],
   "source": [
    "import re\n",
    "seq=df_1['seq'][0][:-3]"
   ]
  },
  {
   "cell_type": "code",
   "execution_count": 17,
   "metadata": {},
   "outputs": [],
   "source": [
    "def calcSscScores(seqs):\n",
    "    \"\"\" calc the SSC scores from the paper Xu Xiao Chen Li Meyer Brown Lui Gen Res 2015 \n",
    "    Input is a 30mer, 20bp for the guide, 3bp PAM, 7bp 3' flanking\n",
    "    intercept=0\n",
    "    \"\"\"\n",
    "    score = []\n",
    "    ssc=pd.read_csv('/home/stephenvu/Downloads/crisporWebsite/bin/src/SSC0.1/matrix/human_CRISPRi_20bp.matrix',sep=\"\\t\").reset_index()\n",
    "    for s in seqs: \n",
    "        seq = s[:-3]\n",
    "        num=0\n",
    "        base = ['A','T','G','C']\n",
    "        for i in base:\n",
    "            ind=find(seq,i)\n",
    "            for j in ind:\n",
    "                num+=ssc.loc[j,i]\n",
    "        score.append(num)\n",
    "    return score\n",
    "def find(s, ch):\n",
    "    return [i for i, ltr in enumerate(s) if ltr == ch]\n",
    "def validate_data3(df): \n",
    "    result = []\n",
    "    scores = calcSscScores(df['seq'])\n",
    "    for score in scores:\n",
    "        if score>0.5: \n",
    "            result.append(1)\n",
    "        else: \n",
    "            result.append(0)\n",
    "    df['SSC'] = result \n",
    "    return df \n",
    "    "
   ]
  },
  {
   "cell_type": "code",
   "execution_count": 19,
   "metadata": {},
   "outputs": [
    {
     "name": "stdout",
     "output_type": "stream",
     "text": [
      "0.7798434442270059\n",
      "0.710019267822736\n",
      "0.6246142451549191\n",
      "0.5889412773253322\n",
      "0.6411889596602973\n"
     ]
    }
   ],
   "source": [
    "df_1=validate_data3(df_1) \n",
    "df_2=validate_data3(df_2) \n",
    "df_3=validate_data3(df_3) \n",
    "df_4=validate_data3(df_4) \n",
    "df_5=validate_data3(df_5) \n",
    "print(1-accuracy_score(df_1['label'],df_1['SSC']))\n",
    "print(1-accuracy_score(df_2['label'],df_2['SSC']))\n",
    "print(1-accuracy_score(df_3['label'],df_3['SSC']))\n",
    "print(1-accuracy_score(df_4['label'],df_4['SSC']))\n",
    "print(1-accuracy_score(df_5['label'],df_5['SSC']))\n"
   ]
  },
  {
   "cell_type": "code",
   "execution_count": 26,
   "metadata": {},
   "outputs": [
    {
     "data": {
      "text/html": [
       "<div>\n",
       "<style scoped>\n",
       "    .dataframe tbody tr th:only-of-type {\n",
       "        vertical-align: middle;\n",
       "    }\n",
       "\n",
       "    .dataframe tbody tr th {\n",
       "        vertical-align: top;\n",
       "    }\n",
       "\n",
       "    .dataframe thead th {\n",
       "        text-align: right;\n",
       "    }\n",
       "</style>\n",
       "<table border=\"1\" class=\"dataframe\">\n",
       "  <thead>\n",
       "    <tr style=\"text-align: right;\">\n",
       "      <th></th>\n",
       "      <th>seq</th>\n",
       "      <th>data</th>\n",
       "      <th>label</th>\n",
       "      <th>doench_2014</th>\n",
       "      <th>crisprscan</th>\n",
       "      <th>SSC</th>\n",
       "    </tr>\n",
       "  </thead>\n",
       "  <tbody>\n",
       "    <tr>\n",
       "      <th>0</th>\n",
       "      <td>TTGGTGATGCTCACGAACGATGG</td>\n",
       "      <td>mesc</td>\n",
       "      <td>1</td>\n",
       "      <td>1</td>\n",
       "      <td>0</td>\n",
       "      <td>0</td>\n",
       "    </tr>\n",
       "    <tr>\n",
       "      <th>1</th>\n",
       "      <td>AGTGCAGCTGGATGCGCCCGTGG</td>\n",
       "      <td>mesc</td>\n",
       "      <td>1</td>\n",
       "      <td>0</td>\n",
       "      <td>0</td>\n",
       "      <td>0</td>\n",
       "    </tr>\n",
       "    <tr>\n",
       "      <th>2</th>\n",
       "      <td>CTGCAATGACGAGGGTGCCCTGG</td>\n",
       "      <td>mesc</td>\n",
       "      <td>1</td>\n",
       "      <td>0</td>\n",
       "      <td>1</td>\n",
       "      <td>0</td>\n",
       "    </tr>\n",
       "    <tr>\n",
       "      <th>3</th>\n",
       "      <td>AACCTGGACCCCGCTAACGACGG</td>\n",
       "      <td>mesc</td>\n",
       "      <td>1</td>\n",
       "      <td>1</td>\n",
       "      <td>0</td>\n",
       "      <td>0</td>\n",
       "    </tr>\n",
       "    <tr>\n",
       "      <th>4</th>\n",
       "      <td>TTACGAGTGTGCGGTGGACGTGG</td>\n",
       "      <td>mesc</td>\n",
       "      <td>1</td>\n",
       "      <td>0</td>\n",
       "      <td>1</td>\n",
       "      <td>0</td>\n",
       "    </tr>\n",
       "    <tr>\n",
       "      <th>...</th>\n",
       "      <td>...</td>\n",
       "      <td>...</td>\n",
       "      <td>...</td>\n",
       "      <td>...</td>\n",
       "      <td>...</td>\n",
       "      <td>...</td>\n",
       "    </tr>\n",
       "    <tr>\n",
       "      <th>17766</th>\n",
       "      <td>CACACAGTGTCCAGATACGAGGG</td>\n",
       "      <td>hct116</td>\n",
       "      <td>1</td>\n",
       "      <td>0</td>\n",
       "      <td>0</td>\n",
       "      <td>0</td>\n",
       "    </tr>\n",
       "    <tr>\n",
       "      <th>17767</th>\n",
       "      <td>CCAAATCCCAAACCTTACCCTGG</td>\n",
       "      <td>hct116</td>\n",
       "      <td>1</td>\n",
       "      <td>0</td>\n",
       "      <td>0</td>\n",
       "      <td>0</td>\n",
       "    </tr>\n",
       "    <tr>\n",
       "      <th>17768</th>\n",
       "      <td>CATCGATGTGTGCTGTGGCCAGG</td>\n",
       "      <td>hct116</td>\n",
       "      <td>0</td>\n",
       "      <td>0</td>\n",
       "      <td>1</td>\n",
       "      <td>0</td>\n",
       "    </tr>\n",
       "    <tr>\n",
       "      <th>17769</th>\n",
       "      <td>GCTCTTGGAGATGTACAGGAAGG</td>\n",
       "      <td>hct116</td>\n",
       "      <td>1</td>\n",
       "      <td>0</td>\n",
       "      <td>0</td>\n",
       "      <td>0</td>\n",
       "    </tr>\n",
       "    <tr>\n",
       "      <th>17770</th>\n",
       "      <td>GATGGAAATGGGCTTCCGCATGG</td>\n",
       "      <td>hct116</td>\n",
       "      <td>1</td>\n",
       "      <td>0</td>\n",
       "      <td>0</td>\n",
       "      <td>0</td>\n",
       "    </tr>\n",
       "  </tbody>\n",
       "</table>\n",
       "<p>17771 rows × 6 columns</p>\n",
       "</div>"
      ],
      "text/plain": [
       "                           seq    data  label  doench_2014  crisprscan  SSC\n",
       "0      TTGGTGATGCTCACGAACGATGG    mesc      1            1           0    0\n",
       "1      AGTGCAGCTGGATGCGCCCGTGG    mesc      1            0           0    0\n",
       "2      CTGCAATGACGAGGGTGCCCTGG    mesc      1            0           1    0\n",
       "3      AACCTGGACCCCGCTAACGACGG    mesc      1            1           0    0\n",
       "4      TTACGAGTGTGCGGTGGACGTGG    mesc      1            0           1    0\n",
       "...                        ...     ...    ...          ...         ...  ...\n",
       "17766  CACACAGTGTCCAGATACGAGGG  hct116      1            0           0    0\n",
       "17767  CCAAATCCCAAACCTTACCCTGG  hct116      1            0           0    0\n",
       "17768  CATCGATGTGTGCTGTGGCCAGG  hct116      0            0           1    0\n",
       "17769  GCTCTTGGAGATGTACAGGAAGG  hct116      1            0           0    0\n",
       "17770  GATGGAAATGGGCTTCCGCATGG  hct116      1            0           0    0\n",
       "\n",
       "[17771 rows x 6 columns]"
      ]
     },
     "execution_count": 26,
     "metadata": {},
     "output_type": "execute_result"
    }
   ],
   "source": [
    "con1 = pd.concat([df_1,df_2,df_3,df_4,df_5]).reset_index().drop(columns='index')\n",
    "con1"
   ]
  },
  {
   "cell_type": "markdown",
   "metadata": {},
   "source": [
    "# Deep-SVR "
   ]
  },
  {
   "cell_type": "code",
   "execution_count": 11,
   "metadata": {},
   "outputs": [],
   "source": [
    "# -*- coding:utf-8 -*-\n",
    "\n",
    "import os\n",
    "os.environ[\"CUDA_VISIBLE_DEVICES\"] = \"0\"\n",
    "\n",
    "# import tensorflow as tf\n",
    "# import keras.backend.tensorflow_backend as KTF\n",
    "#\n",
    "# config = tf.ConfigProto()\n",
    "# config.gpu_options.per_process_gpu_memory_fraction = 0.95\n",
    "# session = tf.Session(config=config)\n",
    "#\n",
    "# KTF.set_session(session)\n",
    "\n",
    "from keras.models import Model\n",
    "from keras.layers import Input\n",
    "from keras.layers.core import Dense, Dropout, Activation, Flatten\n",
    "from keras.layers.convolutional import Convolution1D, AveragePooling1D\n",
    "from keras.layers.merge import concatenate\n",
    "import numpy as np\n",
    "import pandas as pd\n",
    "from sklearn.svm import SVR\n",
    "import scipy.stats as stats\n",
    "\n",
    "\n",
    "def grna_preprocess(lines):\n",
    "    length = 23\n",
    "    data_n = len(lines)\n",
    "    seq = np.zeros((data_n, length, 4), dtype=int)\n",
    "    for l in range(data_n):\n",
    "        data = lines[l]\n",
    "        seq_temp = data\n",
    "        for i in range(length):\n",
    "            if seq_temp[i] in \"Aa\":\n",
    "                seq[l, i, 0] = 1\n",
    "            elif seq_temp[i] in \"Cc\":\n",
    "                seq[l, i, 1] = 1\n",
    "            elif seq_temp[i] in \"Gg\":\n",
    "                seq[l, i, 2] = 1\n",
    "            elif seq_temp[i] in \"Tt\":\n",
    "                seq[l, i, 3] = 1\n",
    "    return seq\n",
    "\n",
    "\n",
    "def epi_preprocess(lines):\n",
    "    length = 23\n",
    "    data_n = len(lines)\n",
    "    epi = np.zeros((data_n, length), dtype=int)\n",
    "    for l in range(data_n):\n",
    "        data = lines[l]\n",
    "        epi_temp = data\n",
    "        for i in range(length):\n",
    "            if epi_temp[i] in \"A\":\n",
    "                epi[l, i] = 1\n",
    "            elif epi_temp[i] in \"N\":\n",
    "                epi[l, i] = 0\n",
    "    return epi\n",
    "\n",
    "\n",
    "def preprocess(file_path, usecols):\n",
    "    data = pd.read_csv(file_path, usecols=usecols)\n",
    "    data = np.array(data)\n",
    "    ctcf, dnase, h3k4me3, rrbs = epi_preprocess(data[:, 0]), epi_preprocess(data[:, 1]), epi_preprocess(data[:, 2]), epi_preprocess(data[:, 3])\n",
    "    epi = []\n",
    "    for i in range(len(data)):\n",
    "        ctcf_t, dnase_t, h3k4me3_t, rrbs_t = pd.DataFrame(ctcf[i]), pd.DataFrame(dnase[i]), pd.DataFrame(h3k4me3[i]), pd.DataFrame(rrbs[i])\n",
    "        epi_t = pd.concat([ctcf_t, dnase_t, h3k4me3_t, rrbs_t], axis=1)\n",
    "        epi_t = np.array(epi_t)\n",
    "        epi.append(epi_t)\n",
    "    epi = np.array(epi)\n",
    "    return epi\n",
    "\n",
    "\n",
    "def load_data(train_file, test_file):\n",
    "    train_data = pd.read_csv(train_file, usecols=[4, 9])\n",
    "    train_data = np.array(train_data)\n",
    "    train_seq, train_y = train_data[:, 0], train_data[:, 1]\n",
    "    train_seq = grna_preprocess(train_seq)\n",
    "    train_epi = preprocess(train_file, [5, 6, 7, 8])\n",
    "    train_y = train_y.reshape(len(train_y), -1)\n",
    "\n",
    "    test_data = pd.read_csv(test_file, usecols=[4, 9])\n",
    "    test_data = np.array(test_data)\n",
    "    test_seq, test_y = test_data[:, 0], test_data[:, 1]\n",
    "    test_seq = grna_preprocess(test_seq)\n",
    "    test_epi = preprocess(test_file, [5, 6, 7, 8])\n",
    "    test_y = test_y.reshape(len(test_y), -1)\n",
    "    return train_seq, test_seq, train_epi, test_epi, train_y, test_y\n",
    "\n",
    "\n",
    "# Build model\n",
    "def build_model():\n",
    "    dropout = 0.3\n",
    "    seq_input = Input(shape=(23, 4))\n",
    "    seq_conv1 = Convolution1D(256, 5, kernel_initializer='glorot_uniform', name='seq_conv_1')(seq_input)\n",
    "    seq_act1 = Activation('relu', name='seq_activation1')(seq_conv1)\n",
    "    seq_pool1 = AveragePooling1D(2, name='seq_pooling_1')(seq_act1)\n",
    "    seq_drop1 = Dropout(dropout)(seq_pool1)\n",
    "\n",
    "    seq_conv2 = Convolution1D(256, 5, kernel_initializer='glorot_uniform', name='seq_conv_2')(seq_drop1)\n",
    "    seq_act2 = Activation('relu', name='seq_activation_2')(seq_conv2)\n",
    "    seq_pool2 = AveragePooling1D(2, name='seq_pooling_2')(seq_act2)\n",
    "    seq_drop2 = Dropout(dropout)(seq_pool2)\n",
    "    seq_flat = Flatten()(seq_drop2)\n",
    "\n",
    "    seq_dense1 = Dense(256, activation='relu', name='seq_dense_1')(seq_flat)\n",
    "    seq_drop3 = Dropout(dropout)(seq_dense1)\n",
    "    seq_dense2 = Dense(128, activation='relu', name='seq_dense_2')(seq_drop3)\n",
    "    seq_drop4 = Dropout(dropout)(seq_dense2)\n",
    "    seq_dense3 = Dense(64, activation='relu', name='seq_dense_3')(seq_drop4)\n",
    "    seq_drop5 = Dropout(dropout)(seq_dense3)\n",
    "    seq_out = Dense(40, activation='relu', name='seq_dense_4')(seq_drop5)\n",
    "\n",
    "    epi_input = Input(shape=(23, 4))\n",
    "    epi_conv1 = Convolution1D(256, 5, kernel_initializer='glorot_uniform', name='epi_conv_1')(epi_input)\n",
    "    epi_act1 = Activation('relu', name='epi_activation_1')(epi_conv1)\n",
    "    epi_pool1 = AveragePooling1D(2, name='epi_pooling_1')(epi_act1)\n",
    "    epi_drop1 = Dropout(dropout)(epi_pool1)\n",
    "\n",
    "    epi_conv2 = Convolution1D(256, 5, kernel_initializer='glorot_uniform', name='epi_conv_2')(epi_drop1)\n",
    "    epi_act2 = Activation('relu', name='epi_activation_2')(epi_conv2)\n",
    "    epi_pool2 = AveragePooling1D(2, name='epi_pooling_2')(epi_act2)\n",
    "    epi_drop2 = Dropout(dropout)(epi_pool2)\n",
    "    epi_flat = Flatten()(epi_drop2)\n",
    "\n",
    "    epi_dense1 = Dense(256, activation='relu', name='epi_dense_1')(epi_flat)\n",
    "    epi_drop3 = Dropout(dropout)(epi_dense1)\n",
    "    epi_dense2 = Dense(128, activation='relu', name='epi_dense_2')(epi_drop3)\n",
    "    epi_drop4 = Dropout(dropout)(epi_dense2)\n",
    "    epi_dense3 = Dense(64, activation='relu', name='epi_dense_3')(epi_drop4)\n",
    "    epi_drop5 = Dropout(dropout)(epi_dense3)\n",
    "    epi_out = Dense(40, activation='relu', name='epi_dense_4')(epi_drop5)\n",
    "\n",
    "    merged = concatenate([seq_out, epi_out], axis=-1)\n",
    "\n",
    "    pretrain_model = Model(inputs=[seq_input, epi_input], outputs=[merged])\n",
    "\n",
    "    # Load weights for the model\n",
    "    pretrain_model.load_weights(\"weights.h5\", by_name=True)\n",
    "\n",
    "    prediction = Dense(1, activation='linear', name='prediction')(merged)\n",
    "    model = Model([seq_input, epi_input], prediction)\n",
    "    return merged, model\n",
    "\n",
    "\n",
    "# if __name__ == '__main__':\n",
    "\n",
    "#     train_path = \"/home/stephenvu/Downloads/CNN-SVR/data/training_example.csv\"\n",
    "#     test_path = \"/home/stephenvu/Downloads/CNN-SVR/data/testing_example.csv\"\n",
    "\n",
    "#     # Load data\n",
    "#     seq_train, seq_test, epi_train, epi_test, y_train, y_test = load_data(train_path, test_path)\n",
    "\n",
    "#     merged, model = build_model()\n",
    "\n",
    "#     new_model = Model(model.inputs, outputs=[merged])\n",
    "#     x_train = new_model.predict([seq_train, epi_train])\n",
    "#     x_test = new_model.predict([seq_test, epi_test])\n",
    "\n",
    "#     x_train, x_test = np.array(x_train), np.array(x_test)\n",
    "\n",
    "#     # Select important features from initial CNN features\n",
    "#     selected_cnn_fea_cols = [17, 26, 9, 19, 30, 6, 12, 39, 36, 21, 22, 3, 25]\n",
    "#     x_train = x_train[:, selected_cnn_fea_cols]\n",
    "#     x_test = x_test[:, selected_cnn_fea_cols]\n",
    "\n",
    "#     y_train = np.array(y_train).ravel()\n",
    "#     y_test = np.array(y_test).ravel()\n",
    "\n",
    "#     clf = SVC(kernel=\"rbf\", gamma=0.12, C=1.7)\n",
    "\n",
    "#     # Fit the SVR model according to the given training data\n",
    "#     clf.fit(x_train, y_train)\n",
    "\n",
    "#     # Perform regression on samples in x_test\n",
    "#     y_pred = clf.predict(x_test)\n",
    "#     print(y_pred)\n",
    "\n",
    "#     # Calculate Spearman correlation coefficient\n",
    "#     # Spearman_correlation, _ = stats.stats.spearmanr(y_test, y_pred)\n",
    "\n",
    "#     # Print Spearman correlation result\n",
    "#     # print(\"Spearman correlation=%.3f\" % (Spearman_correlation))\n",
    "\n",
    "\n",
    "\n",
    "\n",
    "\n",
    "\n",
    "\n",
    "\n",
    "\n",
    "\n",
    "\n",
    "\n",
    "\n",
    "\n",
    "\n",
    "\n",
    "\n",
    "\n",
    "\n",
    "\n",
    "\n",
    "\n",
    "\n",
    "\n",
    "\n",
    "\n",
    "\n",
    "\n",
    "\n",
    "\n"
   ]
  },
  {
   "cell_type": "code",
   "execution_count": 12,
   "metadata": {},
   "outputs": [],
   "source": [
    "accuracy_score_SVR = 0.61516167\n",
    "# Check process.ipynb for the code"
   ]
  },
  {
   "cell_type": "code",
   "execution_count": 13,
   "metadata": {},
   "outputs": [
    {
     "data": {
      "text/html": [
       "<div>\n",
       "<style scoped>\n",
       "    .dataframe tbody tr th:only-of-type {\n",
       "        vertical-align: middle;\n",
       "    }\n",
       "\n",
       "    .dataframe tbody tr th {\n",
       "        vertical-align: top;\n",
       "    }\n",
       "\n",
       "    .dataframe thead th {\n",
       "        text-align: right;\n",
       "    }\n",
       "</style>\n",
       "<table border=\"1\" class=\"dataframe\">\n",
       "  <thead>\n",
       "    <tr style=\"text-align: right;\">\n",
       "      <th></th>\n",
       "      <th>seq</th>\n",
       "      <th>data</th>\n",
       "      <th>label</th>\n",
       "      <th>doench_2014</th>\n",
       "      <th>crisprscan</th>\n",
       "      <th>SSC</th>\n",
       "    </tr>\n",
       "  </thead>\n",
       "  <tbody>\n",
       "    <tr>\n",
       "      <th>0</th>\n",
       "      <td>TTGGTGATGCTCACGAACGATGG</td>\n",
       "      <td>mesc</td>\n",
       "      <td>1</td>\n",
       "      <td>1</td>\n",
       "      <td>0</td>\n",
       "      <td>0</td>\n",
       "    </tr>\n",
       "    <tr>\n",
       "      <th>1</th>\n",
       "      <td>AGTGCAGCTGGATGCGCCCGTGG</td>\n",
       "      <td>mesc</td>\n",
       "      <td>1</td>\n",
       "      <td>0</td>\n",
       "      <td>0</td>\n",
       "      <td>0</td>\n",
       "    </tr>\n",
       "    <tr>\n",
       "      <th>2</th>\n",
       "      <td>CTGCAATGACGAGGGTGCCCTGG</td>\n",
       "      <td>mesc</td>\n",
       "      <td>1</td>\n",
       "      <td>0</td>\n",
       "      <td>1</td>\n",
       "      <td>0</td>\n",
       "    </tr>\n",
       "    <tr>\n",
       "      <th>3</th>\n",
       "      <td>AACCTGGACCCCGCTAACGACGG</td>\n",
       "      <td>mesc</td>\n",
       "      <td>1</td>\n",
       "      <td>1</td>\n",
       "      <td>0</td>\n",
       "      <td>0</td>\n",
       "    </tr>\n",
       "    <tr>\n",
       "      <th>4</th>\n",
       "      <td>TTACGAGTGTGCGGTGGACGTGG</td>\n",
       "      <td>mesc</td>\n",
       "      <td>1</td>\n",
       "      <td>0</td>\n",
       "      <td>1</td>\n",
       "      <td>0</td>\n",
       "    </tr>\n",
       "    <tr>\n",
       "      <th>...</th>\n",
       "      <td>...</td>\n",
       "      <td>...</td>\n",
       "      <td>...</td>\n",
       "      <td>...</td>\n",
       "      <td>...</td>\n",
       "      <td>...</td>\n",
       "    </tr>\n",
       "    <tr>\n",
       "      <th>1017</th>\n",
       "      <td>GTAGTCTGCCTCGAAGCTCTCGG</td>\n",
       "      <td>mesc</td>\n",
       "      <td>1</td>\n",
       "      <td>0</td>\n",
       "      <td>0</td>\n",
       "      <td>0</td>\n",
       "    </tr>\n",
       "    <tr>\n",
       "      <th>1018</th>\n",
       "      <td>CAACATTTAAATATGATCCTGGG</td>\n",
       "      <td>mesc</td>\n",
       "      <td>0</td>\n",
       "      <td>0</td>\n",
       "      <td>0</td>\n",
       "      <td>0</td>\n",
       "    </tr>\n",
       "    <tr>\n",
       "      <th>1019</th>\n",
       "      <td>GTTTGAAGAGGTCGGTGCACGGG</td>\n",
       "      <td>mesc</td>\n",
       "      <td>1</td>\n",
       "      <td>0</td>\n",
       "      <td>1</td>\n",
       "      <td>0</td>\n",
       "    </tr>\n",
       "    <tr>\n",
       "      <th>1020</th>\n",
       "      <td>CGTTTGAAGAGGTCGGTGCACGG</td>\n",
       "      <td>mesc</td>\n",
       "      <td>1</td>\n",
       "      <td>0</td>\n",
       "      <td>1</td>\n",
       "      <td>0</td>\n",
       "    </tr>\n",
       "    <tr>\n",
       "      <th>1021</th>\n",
       "      <td>CTGGTAGCGTTTGAAGAGGTCGG</td>\n",
       "      <td>mesc</td>\n",
       "      <td>1</td>\n",
       "      <td>1</td>\n",
       "      <td>1</td>\n",
       "      <td>0</td>\n",
       "    </tr>\n",
       "  </tbody>\n",
       "</table>\n",
       "<p>1022 rows × 6 columns</p>\n",
       "</div>"
      ],
      "text/plain": [
       "                          seq  data  label  doench_2014  crisprscan  SSC\n",
       "0     TTGGTGATGCTCACGAACGATGG  mesc      1            1           0    0\n",
       "1     AGTGCAGCTGGATGCGCCCGTGG  mesc      1            0           0    0\n",
       "2     CTGCAATGACGAGGGTGCCCTGG  mesc      1            0           1    0\n",
       "3     AACCTGGACCCCGCTAACGACGG  mesc      1            1           0    0\n",
       "4     TTACGAGTGTGCGGTGGACGTGG  mesc      1            0           1    0\n",
       "...                       ...   ...    ...          ...         ...  ...\n",
       "1017  GTAGTCTGCCTCGAAGCTCTCGG  mesc      1            0           0    0\n",
       "1018  CAACATTTAAATATGATCCTGGG  mesc      0            0           0    0\n",
       "1019  GTTTGAAGAGGTCGGTGCACGGG  mesc      1            0           1    0\n",
       "1020  CGTTTGAAGAGGTCGGTGCACGG  mesc      1            0           1    0\n",
       "1021  CTGGTAGCGTTTGAAGAGGTCGG  mesc      1            1           1    0\n",
       "\n",
       "[1022 rows x 6 columns]"
      ]
     },
     "execution_count": 13,
     "metadata": {},
     "output_type": "execute_result"
    }
   ],
   "source": [
    "df_1"
   ]
  },
  {
   "cell_type": "code",
   "execution_count": 25,
   "metadata": {},
   "outputs": [],
   "source": [
    "SVR=[0.48148148148148145,\n",
    "0.6270718232044199,\n",
    "0.496986301369863,\n",
    "0.5086805555555556,\n",
    "0.47535596933187296,]\n",
    "SSC=[0.7798434442270059,\n",
    "0.710019267822736,\n",
    "0.6246142451549191,\n",
    "0.5889412773253322,\n",
    "0.6411889596602973]\n",
    "CRISPR_SCAN = [0.6311154598825832,\n",
    "0.569364161849711,\n",
    "0.5756079496358475,\n",
    "0.5383626232318903,\n",
    "0.5902335456475584]\n",
    "doench = [0.7005870841487281,\n",
    "0.6748554913294798,\n",
    "0.6086902851499815,\n",
    "0.5636519502786113,\n",
    "0.6117008728473696]\n",
    "deep_snmf=[0.61666667, 0.636188  , 0.66726027, 0.67083333, 0.67464403]"
   ]
  },
  {
   "cell_type": "code",
   "execution_count": 31,
   "metadata": {},
   "outputs": [],
   "source": [
    "result=pd.DataFrame([doench,CRISPR_SCAN,SSC,SVR,deep_snmf],columns=['mesc','hl61','hela','hek293t','hct116'],index=['doench','crispr_scan','ssc','svr','deep_snmf'])"
   ]
  },
  {
   "cell_type": "code",
   "execution_count": 27,
   "metadata": {},
   "outputs": [],
   "source": [
    "result.to_excel('result_true.xlsx')"
   ]
  },
  {
   "cell_type": "code",
   "execution_count": 32,
   "metadata": {},
   "outputs": [
    {
     "data": {
      "text/plain": [
       "Index(['mesc', 'hl61', 'hela', 'hek293t', 'hct116'], dtype='object')"
      ]
     },
     "execution_count": 32,
     "metadata": {},
     "output_type": "execute_result"
    }
   ],
   "source": [
    "result.columns"
   ]
  },
  {
   "cell_type": "code",
   "execution_count": 33,
   "metadata": {},
   "outputs": [
    {
     "data": {
      "text/html": [
       "<div>\n",
       "<style scoped>\n",
       "    .dataframe tbody tr th:only-of-type {\n",
       "        vertical-align: middle;\n",
       "    }\n",
       "\n",
       "    .dataframe tbody tr th {\n",
       "        vertical-align: top;\n",
       "    }\n",
       "\n",
       "    .dataframe thead th {\n",
       "        text-align: right;\n",
       "    }\n",
       "</style>\n",
       "<table border=\"1\" class=\"dataframe\">\n",
       "  <thead>\n",
       "    <tr style=\"text-align: right;\">\n",
       "      <th></th>\n",
       "      <th>index</th>\n",
       "      <th>mesc</th>\n",
       "      <th>hl61</th>\n",
       "      <th>hela</th>\n",
       "      <th>hek293t</th>\n",
       "      <th>hct116</th>\n",
       "    </tr>\n",
       "  </thead>\n",
       "  <tbody>\n",
       "    <tr>\n",
       "      <th>0</th>\n",
       "      <td>doench</td>\n",
       "      <td>0.700587</td>\n",
       "      <td>0.674855</td>\n",
       "      <td>0.608690</td>\n",
       "      <td>0.563652</td>\n",
       "      <td>0.611701</td>\n",
       "    </tr>\n",
       "    <tr>\n",
       "      <th>1</th>\n",
       "      <td>crispr_scan</td>\n",
       "      <td>0.631115</td>\n",
       "      <td>0.569364</td>\n",
       "      <td>0.575608</td>\n",
       "      <td>0.538363</td>\n",
       "      <td>0.590234</td>\n",
       "    </tr>\n",
       "    <tr>\n",
       "      <th>2</th>\n",
       "      <td>ssc</td>\n",
       "      <td>0.779843</td>\n",
       "      <td>0.710019</td>\n",
       "      <td>0.624614</td>\n",
       "      <td>0.588941</td>\n",
       "      <td>0.641189</td>\n",
       "    </tr>\n",
       "    <tr>\n",
       "      <th>3</th>\n",
       "      <td>svr</td>\n",
       "      <td>0.481481</td>\n",
       "      <td>0.627072</td>\n",
       "      <td>0.496986</td>\n",
       "      <td>0.508681</td>\n",
       "      <td>0.475356</td>\n",
       "    </tr>\n",
       "    <tr>\n",
       "      <th>4</th>\n",
       "      <td>deep_snmf</td>\n",
       "      <td>0.616667</td>\n",
       "      <td>0.636188</td>\n",
       "      <td>0.667260</td>\n",
       "      <td>0.670833</td>\n",
       "      <td>0.674644</td>\n",
       "    </tr>\n",
       "  </tbody>\n",
       "</table>\n",
       "</div>"
      ],
      "text/plain": [
       "         index      mesc      hl61      hela   hek293t    hct116\n",
       "0       doench  0.700587  0.674855  0.608690  0.563652  0.611701\n",
       "1  crispr_scan  0.631115  0.569364  0.575608  0.538363  0.590234\n",
       "2          ssc  0.779843  0.710019  0.624614  0.588941  0.641189\n",
       "3          svr  0.481481  0.627072  0.496986  0.508681  0.475356\n",
       "4    deep_snmf  0.616667  0.636188  0.667260  0.670833  0.674644"
      ]
     },
     "execution_count": 33,
     "metadata": {},
     "output_type": "execute_result"
    }
   ],
   "source": [
    "result = result.reset_index()\n",
    "result"
   ]
  },
  {
   "cell_type": "code",
   "execution_count": 36,
   "metadata": {},
   "outputs": [
    {
     "data": {
      "application/vnd.plotly.v1+json": {
       "config": {
        "plotlyServerURL": "https://plot.ly"
       },
       "data": [
        {
         "name": "doench",
         "r": [
          "doench",
          0.7005870841487281,
          0.6748554913294798,
          0.6086902851499815,
          0.5636519502786113,
          0.6117008728473696
         ],
         "theta": [
          "mesc",
          "hl61",
          "hela",
          "hek293t",
          "hct116"
         ],
         "type": "scatterpolar"
        },
        {
         "name": "crispr_scan",
         "r": [
          0.6311154598825832,
          0.569364161849711,
          0.5756079496358475,
          0.5383626232318903,
          0.5902335456475584
         ],
         "theta": [
          "mesc",
          "hl61",
          "hela",
          "hek293t",
          "hct116"
         ],
         "type": "scatterpolar"
        },
        {
         "name": "ssc",
         "r": [
          0.7798434442270059,
          0.710019267822736,
          0.6246142451549191,
          0.5889412773253322,
          0.6411889596602973
         ],
         "theta": [
          "mesc",
          "hl61",
          "hela",
          "hek293t",
          "hct116"
         ],
         "type": "scatterpolar"
        },
        {
         "name": "svr",
         "r": [
          0.48148148148148145,
          0.6270718232044199,
          0.496986301369863,
          0.5086805555555556,
          0.47535596933187296
         ],
         "theta": [
          "mesc",
          "hl61",
          "hela",
          "hek293t",
          "hct116"
         ],
         "type": "scatterpolar"
        },
        {
         "name": "deep_snmf",
         "r": [
          0.61666667,
          0.636188,
          0.66726027,
          0.67083333,
          0.67464403
         ],
         "theta": [
          "mesc",
          "hl61",
          "hela",
          "hek293t",
          "hct116"
         ],
         "type": "scatterpolar"
        }
       ],
       "layout": {
        "polar": {
         "radialaxis": {
          "visible": true
         }
        },
        "showlegend": true,
        "template": {
         "data": {
          "bar": [
           {
            "error_x": {
             "color": "#f2f5fa"
            },
            "error_y": {
             "color": "#f2f5fa"
            },
            "marker": {
             "line": {
              "color": "rgb(17,17,17)",
              "width": 0.5
             }
            },
            "type": "bar"
           }
          ],
          "barpolar": [
           {
            "marker": {
             "line": {
              "color": "rgb(17,17,17)",
              "width": 0.5
             }
            },
            "type": "barpolar"
           }
          ],
          "carpet": [
           {
            "aaxis": {
             "endlinecolor": "#A2B1C6",
             "gridcolor": "#506784",
             "linecolor": "#506784",
             "minorgridcolor": "#506784",
             "startlinecolor": "#A2B1C6"
            },
            "baxis": {
             "endlinecolor": "#A2B1C6",
             "gridcolor": "#506784",
             "linecolor": "#506784",
             "minorgridcolor": "#506784",
             "startlinecolor": "#A2B1C6"
            },
            "type": "carpet"
           }
          ],
          "choropleth": [
           {
            "colorbar": {
             "outlinewidth": 0,
             "ticks": ""
            },
            "type": "choropleth"
           }
          ],
          "contour": [
           {
            "colorbar": {
             "outlinewidth": 0,
             "ticks": ""
            },
            "colorscale": [
             [
              0,
              "#0d0887"
             ],
             [
              0.1111111111111111,
              "#46039f"
             ],
             [
              0.2222222222222222,
              "#7201a8"
             ],
             [
              0.3333333333333333,
              "#9c179e"
             ],
             [
              0.4444444444444444,
              "#bd3786"
             ],
             [
              0.5555555555555556,
              "#d8576b"
             ],
             [
              0.6666666666666666,
              "#ed7953"
             ],
             [
              0.7777777777777778,
              "#fb9f3a"
             ],
             [
              0.8888888888888888,
              "#fdca26"
             ],
             [
              1,
              "#f0f921"
             ]
            ],
            "type": "contour"
           }
          ],
          "contourcarpet": [
           {
            "colorbar": {
             "outlinewidth": 0,
             "ticks": ""
            },
            "type": "contourcarpet"
           }
          ],
          "heatmap": [
           {
            "colorbar": {
             "outlinewidth": 0,
             "ticks": ""
            },
            "colorscale": [
             [
              0,
              "#0d0887"
             ],
             [
              0.1111111111111111,
              "#46039f"
             ],
             [
              0.2222222222222222,
              "#7201a8"
             ],
             [
              0.3333333333333333,
              "#9c179e"
             ],
             [
              0.4444444444444444,
              "#bd3786"
             ],
             [
              0.5555555555555556,
              "#d8576b"
             ],
             [
              0.6666666666666666,
              "#ed7953"
             ],
             [
              0.7777777777777778,
              "#fb9f3a"
             ],
             [
              0.8888888888888888,
              "#fdca26"
             ],
             [
              1,
              "#f0f921"
             ]
            ],
            "type": "heatmap"
           }
          ],
          "heatmapgl": [
           {
            "colorbar": {
             "outlinewidth": 0,
             "ticks": ""
            },
            "colorscale": [
             [
              0,
              "#0d0887"
             ],
             [
              0.1111111111111111,
              "#46039f"
             ],
             [
              0.2222222222222222,
              "#7201a8"
             ],
             [
              0.3333333333333333,
              "#9c179e"
             ],
             [
              0.4444444444444444,
              "#bd3786"
             ],
             [
              0.5555555555555556,
              "#d8576b"
             ],
             [
              0.6666666666666666,
              "#ed7953"
             ],
             [
              0.7777777777777778,
              "#fb9f3a"
             ],
             [
              0.8888888888888888,
              "#fdca26"
             ],
             [
              1,
              "#f0f921"
             ]
            ],
            "type": "heatmapgl"
           }
          ],
          "histogram": [
           {
            "marker": {
             "colorbar": {
              "outlinewidth": 0,
              "ticks": ""
             }
            },
            "type": "histogram"
           }
          ],
          "histogram2d": [
           {
            "colorbar": {
             "outlinewidth": 0,
             "ticks": ""
            },
            "colorscale": [
             [
              0,
              "#0d0887"
             ],
             [
              0.1111111111111111,
              "#46039f"
             ],
             [
              0.2222222222222222,
              "#7201a8"
             ],
             [
              0.3333333333333333,
              "#9c179e"
             ],
             [
              0.4444444444444444,
              "#bd3786"
             ],
             [
              0.5555555555555556,
              "#d8576b"
             ],
             [
              0.6666666666666666,
              "#ed7953"
             ],
             [
              0.7777777777777778,
              "#fb9f3a"
             ],
             [
              0.8888888888888888,
              "#fdca26"
             ],
             [
              1,
              "#f0f921"
             ]
            ],
            "type": "histogram2d"
           }
          ],
          "histogram2dcontour": [
           {
            "colorbar": {
             "outlinewidth": 0,
             "ticks": ""
            },
            "colorscale": [
             [
              0,
              "#0d0887"
             ],
             [
              0.1111111111111111,
              "#46039f"
             ],
             [
              0.2222222222222222,
              "#7201a8"
             ],
             [
              0.3333333333333333,
              "#9c179e"
             ],
             [
              0.4444444444444444,
              "#bd3786"
             ],
             [
              0.5555555555555556,
              "#d8576b"
             ],
             [
              0.6666666666666666,
              "#ed7953"
             ],
             [
              0.7777777777777778,
              "#fb9f3a"
             ],
             [
              0.8888888888888888,
              "#fdca26"
             ],
             [
              1,
              "#f0f921"
             ]
            ],
            "type": "histogram2dcontour"
           }
          ],
          "mesh3d": [
           {
            "colorbar": {
             "outlinewidth": 0,
             "ticks": ""
            },
            "type": "mesh3d"
           }
          ],
          "parcoords": [
           {
            "line": {
             "colorbar": {
              "outlinewidth": 0,
              "ticks": ""
             }
            },
            "type": "parcoords"
           }
          ],
          "pie": [
           {
            "automargin": true,
            "type": "pie"
           }
          ],
          "scatter": [
           {
            "marker": {
             "line": {
              "color": "#283442"
             }
            },
            "type": "scatter"
           }
          ],
          "scatter3d": [
           {
            "line": {
             "colorbar": {
              "outlinewidth": 0,
              "ticks": ""
             }
            },
            "marker": {
             "colorbar": {
              "outlinewidth": 0,
              "ticks": ""
             }
            },
            "type": "scatter3d"
           }
          ],
          "scattercarpet": [
           {
            "marker": {
             "colorbar": {
              "outlinewidth": 0,
              "ticks": ""
             }
            },
            "type": "scattercarpet"
           }
          ],
          "scattergeo": [
           {
            "marker": {
             "colorbar": {
              "outlinewidth": 0,
              "ticks": ""
             }
            },
            "type": "scattergeo"
           }
          ],
          "scattergl": [
           {
            "marker": {
             "line": {
              "color": "#283442"
             }
            },
            "type": "scattergl"
           }
          ],
          "scattermapbox": [
           {
            "marker": {
             "colorbar": {
              "outlinewidth": 0,
              "ticks": ""
             }
            },
            "type": "scattermapbox"
           }
          ],
          "scatterpolar": [
           {
            "marker": {
             "colorbar": {
              "outlinewidth": 0,
              "ticks": ""
             }
            },
            "type": "scatterpolar"
           }
          ],
          "scatterpolargl": [
           {
            "marker": {
             "colorbar": {
              "outlinewidth": 0,
              "ticks": ""
             }
            },
            "type": "scatterpolargl"
           }
          ],
          "scatterternary": [
           {
            "marker": {
             "colorbar": {
              "outlinewidth": 0,
              "ticks": ""
             }
            },
            "type": "scatterternary"
           }
          ],
          "surface": [
           {
            "colorbar": {
             "outlinewidth": 0,
             "ticks": ""
            },
            "colorscale": [
             [
              0,
              "#0d0887"
             ],
             [
              0.1111111111111111,
              "#46039f"
             ],
             [
              0.2222222222222222,
              "#7201a8"
             ],
             [
              0.3333333333333333,
              "#9c179e"
             ],
             [
              0.4444444444444444,
              "#bd3786"
             ],
             [
              0.5555555555555556,
              "#d8576b"
             ],
             [
              0.6666666666666666,
              "#ed7953"
             ],
             [
              0.7777777777777778,
              "#fb9f3a"
             ],
             [
              0.8888888888888888,
              "#fdca26"
             ],
             [
              1,
              "#f0f921"
             ]
            ],
            "type": "surface"
           }
          ],
          "table": [
           {
            "cells": {
             "fill": {
              "color": "#506784"
             },
             "line": {
              "color": "rgb(17,17,17)"
             }
            },
            "header": {
             "fill": {
              "color": "#2a3f5f"
             },
             "line": {
              "color": "rgb(17,17,17)"
             }
            },
            "type": "table"
           }
          ]
         },
         "layout": {
          "annotationdefaults": {
           "arrowcolor": "#f2f5fa",
           "arrowhead": 0,
           "arrowwidth": 1
          },
          "autotypenumbers": "strict",
          "coloraxis": {
           "colorbar": {
            "outlinewidth": 0,
            "ticks": ""
           }
          },
          "colorscale": {
           "diverging": [
            [
             0,
             "#8e0152"
            ],
            [
             0.1,
             "#c51b7d"
            ],
            [
             0.2,
             "#de77ae"
            ],
            [
             0.3,
             "#f1b6da"
            ],
            [
             0.4,
             "#fde0ef"
            ],
            [
             0.5,
             "#f7f7f7"
            ],
            [
             0.6,
             "#e6f5d0"
            ],
            [
             0.7,
             "#b8e186"
            ],
            [
             0.8,
             "#7fbc41"
            ],
            [
             0.9,
             "#4d9221"
            ],
            [
             1,
             "#276419"
            ]
           ],
           "sequential": [
            [
             0,
             "#0d0887"
            ],
            [
             0.1111111111111111,
             "#46039f"
            ],
            [
             0.2222222222222222,
             "#7201a8"
            ],
            [
             0.3333333333333333,
             "#9c179e"
            ],
            [
             0.4444444444444444,
             "#bd3786"
            ],
            [
             0.5555555555555556,
             "#d8576b"
            ],
            [
             0.6666666666666666,
             "#ed7953"
            ],
            [
             0.7777777777777778,
             "#fb9f3a"
            ],
            [
             0.8888888888888888,
             "#fdca26"
            ],
            [
             1,
             "#f0f921"
            ]
           ],
           "sequentialminus": [
            [
             0,
             "#0d0887"
            ],
            [
             0.1111111111111111,
             "#46039f"
            ],
            [
             0.2222222222222222,
             "#7201a8"
            ],
            [
             0.3333333333333333,
             "#9c179e"
            ],
            [
             0.4444444444444444,
             "#bd3786"
            ],
            [
             0.5555555555555556,
             "#d8576b"
            ],
            [
             0.6666666666666666,
             "#ed7953"
            ],
            [
             0.7777777777777778,
             "#fb9f3a"
            ],
            [
             0.8888888888888888,
             "#fdca26"
            ],
            [
             1,
             "#f0f921"
            ]
           ]
          },
          "colorway": [
           "#636efa",
           "#EF553B",
           "#00cc96",
           "#ab63fa",
           "#FFA15A",
           "#19d3f3",
           "#FF6692",
           "#B6E880",
           "#FF97FF",
           "#FECB52"
          ],
          "font": {
           "color": "#f2f5fa"
          },
          "geo": {
           "bgcolor": "rgb(17,17,17)",
           "lakecolor": "rgb(17,17,17)",
           "landcolor": "rgb(17,17,17)",
           "showlakes": true,
           "showland": true,
           "subunitcolor": "#506784"
          },
          "hoverlabel": {
           "align": "left"
          },
          "hovermode": "closest",
          "mapbox": {
           "style": "dark"
          },
          "paper_bgcolor": "rgb(17,17,17)",
          "plot_bgcolor": "rgb(17,17,17)",
          "polar": {
           "angularaxis": {
            "gridcolor": "#506784",
            "linecolor": "#506784",
            "ticks": ""
           },
           "bgcolor": "rgb(17,17,17)",
           "radialaxis": {
            "gridcolor": "#506784",
            "linecolor": "#506784",
            "ticks": ""
           }
          },
          "scene": {
           "xaxis": {
            "backgroundcolor": "rgb(17,17,17)",
            "gridcolor": "#506784",
            "gridwidth": 2,
            "linecolor": "#506784",
            "showbackground": true,
            "ticks": "",
            "zerolinecolor": "#C8D4E3"
           },
           "yaxis": {
            "backgroundcolor": "rgb(17,17,17)",
            "gridcolor": "#506784",
            "gridwidth": 2,
            "linecolor": "#506784",
            "showbackground": true,
            "ticks": "",
            "zerolinecolor": "#C8D4E3"
           },
           "zaxis": {
            "backgroundcolor": "rgb(17,17,17)",
            "gridcolor": "#506784",
            "gridwidth": 2,
            "linecolor": "#506784",
            "showbackground": true,
            "ticks": "",
            "zerolinecolor": "#C8D4E3"
           }
          },
          "shapedefaults": {
           "line": {
            "color": "#f2f5fa"
           }
          },
          "sliderdefaults": {
           "bgcolor": "#C8D4E3",
           "bordercolor": "rgb(17,17,17)",
           "borderwidth": 1,
           "tickwidth": 0
          },
          "ternary": {
           "aaxis": {
            "gridcolor": "#506784",
            "linecolor": "#506784",
            "ticks": ""
           },
           "baxis": {
            "gridcolor": "#506784",
            "linecolor": "#506784",
            "ticks": ""
           },
           "bgcolor": "rgb(17,17,17)",
           "caxis": {
            "gridcolor": "#506784",
            "linecolor": "#506784",
            "ticks": ""
           }
          },
          "title": {
           "x": 0.05
          },
          "updatemenudefaults": {
           "bgcolor": "#506784",
           "borderwidth": 0
          },
          "xaxis": {
           "automargin": true,
           "gridcolor": "#283442",
           "linecolor": "#506784",
           "ticks": "",
           "title": {
            "standoff": 15
           },
           "zerolinecolor": "#283442",
           "zerolinewidth": 2
          },
          "yaxis": {
           "automargin": true,
           "gridcolor": "#283442",
           "linecolor": "#506784",
           "ticks": "",
           "title": {
            "standoff": 15
           },
           "zerolinecolor": "#283442",
           "zerolinewidth": 2
          }
         }
        }
       }
      }
     },
     "metadata": {},
     "output_type": "display_data"
    }
   ],
   "source": [
    "import pandas as pd\n",
    "import numpy as np\n",
    "import plotly.express as px\n",
    "import plotly.graph_objects as go\n",
    "  \n",
    "# read dataset from csv and perform preprocessing\n",
    "data = result\n",
    "data.head()\n",
    "  \n",
    "# # remove goalkeepers data for performing fair comparison\n",
    "# goalkeeper_index = data[data['Position'] == 'GK' ].index\n",
    "# data.drop(index_names,inplace=True)\n",
    "  \n",
    "# remove columns which are not required for this visualisation purpose\n",
    "plt_vars = ['mesc', 'hl61', 'hela', 'hek293t', 'hct116']\n",
    "# data.drop(data_cols, axis =1, inplace=True)\n",
    "\n",
    "# plot unfilled scatter plot\n",
    "# plot star plot for comparison\n",
    "fig = go.Figure()\n",
    "  \n",
    "fig.add_trace(go.Scatterpolar(\n",
    "      r=pd.Series(data.loc[0].values),\n",
    "      theta=plt_vars,\n",
    "\n",
    "      name=data.loc[0, 'index']\n",
    "))\n",
    "fig.add_trace(go.Scatterpolar(\n",
    "      r=pd.Series(data.loc[1,plt_vars].values),\n",
    "      theta=plt_vars,\n",
    "\n",
    "      name=data.loc[1, 'index']\n",
    "))\n",
    "fig.add_trace(go.Scatterpolar(\n",
    "      r=pd.Series(data.loc[2,plt_vars].values),\n",
    "      theta=plt_vars,\n",
    "\n",
    "      name=data.loc[2, 'index']\n",
    "))\n",
    "fig.add_trace(go.Scatterpolar(\n",
    "      r=pd.Series(data.loc[3,plt_vars].values),\n",
    "      theta=plt_vars,\n",
    "\n",
    "      name=data.loc[3, 'index']\n",
    "))\n",
    "fig.add_trace(go.Scatterpolar(\n",
    "      r=pd.Series(data.loc[4,plt_vars].values),\n",
    "      theta=plt_vars,\n",
    "    \n",
    "      name=data.loc[4, 'index']\n",
    "))\n",
    "\n",
    "  \n",
    "fig.update_layout(\n",
    "  polar=dict(\n",
    "    radialaxis=dict(\n",
    "      visible=True\n",
    "          )),\n",
    "\n",
    "  template = 'plotly_dark',\n",
    "  showlegend=True\n",
    ")\n",
    "\n",
    "fig.show()\n"
   ]
  },
  {
   "cell_type": "code",
   "execution_count": 47,
   "metadata": {},
   "outputs": [],
   "source": [
    "import seaborn as sns\n",
    "def plot_imbalance(df):\n",
    "    count0=[]\n",
    "    count1=[]\n",
    "    for data in df: \n",
    "        count_class_1, count_class_0 = data.label.value_counts()\n",
    "        count0.append(count_class_0)\n",
    "        count1.append(count_class_1)\n",
    "    result = pd.DataFrame([count0,count1],columns=['mesc','hl61','hela','hek293t','hct116'],index=['ineffective','effective'])\n",
    "    result=result\n",
    "    return result"
   ]
  },
  {
   "cell_type": "code",
   "execution_count": 54,
   "metadata": {},
   "outputs": [],
   "source": [
    "result2=plot_imbalance([df_1,df_2,df_3,df_4,df_5,])\n",
    "f = result2.T.reset_index()"
   ]
  },
  {
   "cell_type": "code",
   "execution_count": 55,
   "metadata": {},
   "outputs": [],
   "source": [
    "import matplotlib.pyplot as plt \n",
    "# sns.set_theme('whitegrid')\n",
    "tidy = f.melt(id_vars='index').rename(columns=str.title)\n"
   ]
  },
  {
   "cell_type": "code",
   "execution_count": 56,
   "metadata": {},
   "outputs": [
    {
     "data": {
      "text/html": [
       "<div>\n",
       "<style scoped>\n",
       "    .dataframe tbody tr th:only-of-type {\n",
       "        vertical-align: middle;\n",
       "    }\n",
       "\n",
       "    .dataframe tbody tr th {\n",
       "        vertical-align: top;\n",
       "    }\n",
       "\n",
       "    .dataframe thead th {\n",
       "        text-align: right;\n",
       "    }\n",
       "</style>\n",
       "<table border=\"1\" class=\"dataframe\">\n",
       "  <thead>\n",
       "    <tr style=\"text-align: right;\">\n",
       "      <th></th>\n",
       "      <th>Index</th>\n",
       "      <th>Variable</th>\n",
       "      <th>Value</th>\n",
       "    </tr>\n",
       "  </thead>\n",
       "  <tbody>\n",
       "    <tr>\n",
       "      <th>0</th>\n",
       "      <td>mesc</td>\n",
       "      <td>ineffective</td>\n",
       "      <td>225</td>\n",
       "    </tr>\n",
       "    <tr>\n",
       "      <th>1</th>\n",
       "      <td>hl61</td>\n",
       "      <td>ineffective</td>\n",
       "      <td>602</td>\n",
       "    </tr>\n",
       "    <tr>\n",
       "      <th>2</th>\n",
       "      <td>hela</td>\n",
       "      <td>ineffective</td>\n",
       "      <td>3041</td>\n",
       "    </tr>\n",
       "    <tr>\n",
       "      <th>3</th>\n",
       "      <td>hek293t</td>\n",
       "      <td>ineffective</td>\n",
       "      <td>959</td>\n",
       "    </tr>\n",
       "    <tr>\n",
       "      <th>4</th>\n",
       "      <td>hct116</td>\n",
       "      <td>ineffective</td>\n",
       "      <td>1521</td>\n",
       "    </tr>\n",
       "    <tr>\n",
       "      <th>5</th>\n",
       "      <td>mesc</td>\n",
       "      <td>effective</td>\n",
       "      <td>797</td>\n",
       "    </tr>\n",
       "    <tr>\n",
       "      <th>6</th>\n",
       "      <td>hl61</td>\n",
       "      <td>effective</td>\n",
       "      <td>1474</td>\n",
       "    </tr>\n",
       "    <tr>\n",
       "      <th>7</th>\n",
       "      <td>hela</td>\n",
       "      <td>effective</td>\n",
       "      <td>5060</td>\n",
       "    </tr>\n",
       "    <tr>\n",
       "      <th>8</th>\n",
       "      <td>hek293t</td>\n",
       "      <td>effective</td>\n",
       "      <td>1374</td>\n",
       "    </tr>\n",
       "    <tr>\n",
       "      <th>9</th>\n",
       "      <td>hct116</td>\n",
       "      <td>effective</td>\n",
       "      <td>2718</td>\n",
       "    </tr>\n",
       "  </tbody>\n",
       "</table>\n",
       "</div>"
      ],
      "text/plain": [
       "     Index     Variable  Value\n",
       "0     mesc  ineffective    225\n",
       "1     hl61  ineffective    602\n",
       "2     hela  ineffective   3041\n",
       "3  hek293t  ineffective    959\n",
       "4   hct116  ineffective   1521\n",
       "5     mesc    effective    797\n",
       "6     hl61    effective   1474\n",
       "7     hela    effective   5060\n",
       "8  hek293t    effective   1374\n",
       "9   hct116    effective   2718"
      ]
     },
     "execution_count": 56,
     "metadata": {},
     "output_type": "execute_result"
    }
   ],
   "source": [
    "tidy"
   ]
  },
  {
   "cell_type": "code",
   "execution_count": 63,
   "metadata": {},
   "outputs": [
    {
     "data": {
      "text/plain": [
       "Text(0.5, 1.0, 'Data Imbalance')"
      ]
     },
     "execution_count": 63,
     "metadata": {},
     "output_type": "execute_result"
    },
    {
     "data": {
      "image/png": "[encoded data removed]",
      "text/plain": [
       "<Figure size 720x720 with 1 Axes>"
      ]
     },
     "metadata": {},
     "output_type": "display_data"
    }
   ],
   "source": [
    "sns.set_theme(style='dark')\n",
    "fig,ax1= plt.subplots(figsize=(10,10))\n",
    "sns.barplot(x='Index',y='Value',hue='Variable',data=tidy,ax=ax1).set_title('Data Imbalance')"
   ]
  },
  {
   "cell_type": "code",
   "execution_count": 38,
   "metadata": {},
   "outputs": [],
   "source": [
    "h2 = pd.read_hdf('H2.h5')\n",
    "y_label=con1['label'].tail(3023)"
   ]
  },
  {
   "cell_type": "code",
   "execution_count": 41,
   "metadata": {},
   "outputs": [],
   "source": [
    "from sklearn.cluster import KMeans\n",
    "clf = KMeans(n_clusters=2).fit(h2[:2500],y_label[:2500])\n"
   ]
  },
  {
   "cell_type": "code",
   "execution_count": 46,
   "metadata": {},
   "outputs": [
    {
     "data": {
      "text/plain": [
       "0.45881574594773405"
      ]
     },
     "execution_count": 46,
     "metadata": {},
     "output_type": "execute_result"
    }
   ],
   "source": [
    "accuracy_score(y_label,y_deep)"
   ]
  },
  {
   "cell_type": "code",
   "execution_count": 42,
   "metadata": {},
   "outputs": [],
   "source": [
    "y_deep = clf.predict(h2,y_label)"
   ]
  },
  {
   "cell_type": "markdown",
   "metadata": {},
   "source": []
  }
 ],
 "metadata": {
  "interpreter": {
   "hash": "9752f58a5b604238ff8d1016eba77c7827bbfbd574e79198e1a58678e526a860"
  },
  "kernelspec": {
   "display_name": "Python 3.8.5 64-bit ('base': conda)",
   "name": "python3"
  },
  "language_info": {
   "codemirror_mode": {
    "name": "ipython",
    "version": 3
   },
   "file_extension": ".py",
   "mimetype": "text/x-python",
   "name": "python",
   "nbconvert_exporter": "python",
   "pygments_lexer": "ipython3",
   "version": "3.8.5"
  },
  "orig_nbformat": 4
 },
 "nbformat": 4,
 "nbformat_minor": 2
}
