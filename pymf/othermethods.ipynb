{
 "cells": [
  {
   "cell_type": "code",
   "execution_count": 1,
   "id": "fe3e6a3b",
   "metadata": {},
   "outputs": [],
   "source": [
    "import numpy as np\n",
    "import scipy\n",
    "from nmf import *\n",
    "import ssnmf\n",
    "from ssnmf import SSNMF\n",
    "#from chnmf import *\n",
    "from greedy import *\n",
    "from greedycur import *\n",
    "from pca import *\n",
    "from cnmf import *\n",
    "from laesa import *\n",
    "from snmf import *\n",
    "import pandas as pd\n",
    "from sklearn.metrics import f1_score, accuracy_score\n",
    "from sklearn.cluster import KMeans"
   ]
  },
  {
   "cell_type": "code",
   "execution_count": 2,
   "id": "83a02156",
   "metadata": {},
   "outputs": [],
   "source": [
    "result = pd.DataFrame()\n",
    "train = []\n",
    "test = []\n",
    "methods = ['NMF','CNMF','LAESA','SMNF','GREEDY SVD','PCA','SSNMF']"
   ]
  },
  {
   "cell_type": "code",
   "execution_count": 3,
   "id": "d7286e32",
   "metadata": {},
   "outputs": [],
   "source": [
    "df = pd.read_csv('C:/Users/vus/OneDrive - Queensland University of Technology/Dr_Luong_bigUpdate/QMI_train_and_test_tfidf.csv')  # got it\n",
    "df2 = pd.read_csv('C:/Users/vus/OneDrive - Queensland University of Technology/Dr_Luong_bigUpdate/label.csv')[:5013]\n",
    "py = pd.get_dummies(df2['labels'])\n",
    "s = pd.concat([df, py], join='outer', axis=1)\n",
    "layers = [100, 50, 2]  # manually assign the list of layers\n",
    "s = s[s.iloc[:, :-2].sum(axis=1) > 0.]\n",
    "df_ = s.iloc[:, :-2].values\n",
    "Y = s.iloc[:, -2:].values\n",
    "\n",
    "X = df_[:1000]\n",
    "Xt=df_[4000:]\n",
    "Y1 = [p[1] for p in Y[:1000]]\n",
    "Yt = [p[1] for p in Y[4000:]]\n",
    "data = X\n",
    "datat=Xt"
   ]
  },
  {
   "cell_type": "markdown",
   "id": "d27a1ab6",
   "metadata": {},
   "source": [
    "# 1. NMF SIMPLE: "
   ]
  },
  {
   "cell_type": "code",
   "execution_count": 4,
   "id": "88558b13",
   "metadata": {},
   "outputs": [],
   "source": [
    "\n",
    "nmf_mdl = NMF(data)\n",
    "#nmf_mdl.initialization()\n",
    "nmf_mdl.factorize()\n",
    "nmf_test=NMF(datat, num_bases=2)\n",
    "nmf_test.factorize()"
   ]
  },
  {
   "cell_type": "code",
   "execution_count": 5,
   "id": "3abd9184",
   "metadata": {},
   "outputs": [],
   "source": [
    "a = KMeans(n_clusters=2).fit(nmf_mdl.W)\n",
    "b = KMeans(n_clusters=2).fit(nmf_test.W)"
   ]
  },
  {
   "cell_type": "code",
   "execution_count": 6,
   "id": "ec0959f1",
   "metadata": {},
   "outputs": [
    {
     "name": "stdout",
     "output_type": "stream",
     "text": [
      "Training:0.617\n",
      "Testing:0.6243756243756243\n",
      "{0: 971, 1: 29}\n",
      "{0: 953, 1: 48}\n"
     ]
    }
   ],
   "source": [
    "print(\"Training:{}\".format(accuracy_score(Y1, a.labels_)))\n",
    "print(\"Testing:{}\".format(accuracy_score(Yt, b.labels_)))\n",
    "unique, counts = np.unique(a.labels_, return_counts=True)\n",
    "print(dict(zip(unique, counts)))\n",
    "unique, counts = np.unique(b.labels_, return_counts=True)\n",
    "print(dict(zip(unique, counts)))\n",
    "train.append(accuracy_score(Y1, a.labels_))\n",
    "test.append(accuracy_score(Yt, b.labels_))"
   ]
  },
  {
   "cell_type": "markdown",
   "id": "9abfc6b9",
   "metadata": {},
   "source": [
    "# 2. convex NMF "
   ]
  },
  {
   "cell_type": "code",
   "execution_count": 7,
   "id": "66280933",
   "metadata": {},
   "outputs": [],
   "source": [
    "ctrain = CNMF(data)\n",
    "\n",
    "ctest = CNMF(datat)\n",
    "ctrain.factorize()\n",
    "ctest.factorize()"
   ]
  },
  {
   "cell_type": "code",
   "execution_count": 8,
   "id": "9006b9c8",
   "metadata": {},
   "outputs": [
    {
     "name": "stdout",
     "output_type": "stream",
     "text": [
      "Training:0.581\n",
      "Testing:0.6293706293706294\n",
      "{0: 907, 1: 93}\n",
      "{0: 982, 1: 19}\n"
     ]
    }
   ],
   "source": [
    "\n",
    "a = KMeans(n_clusters=2).fit(ctrain.W)\n",
    "b = KMeans(n_clusters=2).fit(ctest.W)\n",
    "print(\"Training:{}\".format(accuracy_score(Y1, a.labels_)))\n",
    "print(\"Testing:{}\".format(accuracy_score(Yt, b.labels_)))\n",
    "unique, counts = np.unique(a.labels_, return_counts=True)\n",
    "print(dict(zip(unique, counts)))\n",
    "unique, counts = np.unique(b.labels_, return_counts=True)\n",
    "print(dict(zip(unique, counts)))\n",
    "train.append(accuracy_score(Y1, a.labels_))\n",
    "test.append(accuracy_score(Yt, b.labels_))"
   ]
  },
  {
   "cell_type": "markdown",
   "id": "5da4c612",
   "metadata": {},
   "source": [
    "# 3. LAESA NMF "
   ]
  },
  {
   "cell_type": "code",
   "execution_count": 9,
   "id": "f923df2e",
   "metadata": {},
   "outputs": [],
   "source": [
    "laesa_train = LAESA(data)\n",
    "\n",
    "laesa_test = LAESA(datat)\n",
    "laesa_train.factorize()\n",
    "laesa_test.factorize()"
   ]
  },
  {
   "cell_type": "code",
   "execution_count": 10,
   "id": "18ec9a9e",
   "metadata": {},
   "outputs": [
    {
     "name": "stdout",
     "output_type": "stream",
     "text": [
      "Training:0.416\n",
      "Testing:0.6083916083916084\n",
      "{0: 78, 1: 922}\n",
      "{0: 929, 1: 72}\n"
     ]
    }
   ],
   "source": [
    "\n",
    "a = KMeans(n_clusters=2).fit(laesa_train.W)\n",
    "b = KMeans(n_clusters=2).fit(laesa_test.W)\n",
    "print(\"Training:{}\".format(accuracy_score(Y1, a.labels_)))\n",
    "print(\"Testing:{}\".format(accuracy_score(Yt, b.labels_)))\n",
    "unique, counts = np.unique(a.labels_, return_counts=True)\n",
    "print(dict(zip(unique, counts)))\n",
    "unique, counts = np.unique(b.labels_, return_counts=True)\n",
    "print(dict(zip(unique, counts)))\n",
    "train.append(accuracy_score(Y1, a.labels_))\n",
    "test.append(accuracy_score(Yt, b.labels_))"
   ]
  },
  {
   "cell_type": "markdown",
   "id": "de96a3de",
   "metadata": {},
   "source": [
    "# 4. Semi NMF "
   ]
  },
  {
   "cell_type": "code",
   "execution_count": 11,
   "id": "1b63d90a",
   "metadata": {},
   "outputs": [],
   "source": [
    "smnf_train =SNMF(data)\n",
    "\n",
    "smnf_test = SNMF(datat)\n",
    "smnf_train.factorize()\n",
    "smnf_test.factorize()"
   ]
  },
  {
   "cell_type": "code",
   "execution_count": 12,
   "id": "586db928",
   "metadata": {},
   "outputs": [
    {
     "name": "stdout",
     "output_type": "stream",
     "text": [
      "Training:0.584\n",
      "Testing:0.3916083916083916\n",
      "{0: 922, 1: 78}\n",
      "{0: 72, 1: 929}\n"
     ]
    }
   ],
   "source": [
    "\n",
    "a = KMeans(n_clusters=2).fit(smnf_train.W)\n",
    "b = KMeans(n_clusters=2).fit(smnf_test.W)\n",
    "print(\"Training:{}\".format(accuracy_score(Y1, a.labels_)))\n",
    "print(\"Testing:{}\".format(accuracy_score(Yt, b.labels_)))\n",
    "unique, counts = np.unique(a.labels_, return_counts=True)\n",
    "print(dict(zip(unique, counts)))\n",
    "unique, counts = np.unique(b.labels_, return_counts=True)\n",
    "print(dict(zip(unique, counts)))\n",
    "train.append(accuracy_score(Y1, a.labels_))\n",
    "test.append(accuracy_score(Yt, b.labels_))"
   ]
  },
  {
   "cell_type": "markdown",
   "id": "2746ee72",
   "metadata": {},
   "source": [
    "# 5. Greedy Search "
   ]
  },
  {
   "cell_type": "code",
   "execution_count": 13,
   "id": "7bbaed48",
   "metadata": {},
   "outputs": [],
   "source": [
    "greedy_train =GREEDY(data)\n",
    "\n",
    "greedy_test = GREEDY(datat)\n",
    "greedy_train.factorize()\n",
    "greedy_test.factorize()"
   ]
  },
  {
   "cell_type": "code",
   "execution_count": 14,
   "id": "8f767617",
   "metadata": {},
   "outputs": [
    {
     "name": "stdout",
     "output_type": "stream",
     "text": [
      "Training:0.584\n",
      "Testing:0.6083916083916084\n",
      "{0: 922, 1: 78}\n",
      "{0: 929, 1: 72}\n"
     ]
    }
   ],
   "source": [
    "\n",
    "a = KMeans(n_clusters=2).fit(greedy_train.W)\n",
    "b = KMeans(n_clusters=2).fit(greedy_test.W)\n",
    "print(\"Training:{}\".format(accuracy_score(Y1, a.labels_)))\n",
    "print(\"Testing:{}\".format(accuracy_score(Yt, b.labels_)))\n",
    "unique, counts = np.unique(a.labels_, return_counts=True)\n",
    "print(dict(zip(unique, counts)))\n",
    "unique, counts = np.unique(b.labels_, return_counts=True)\n",
    "print(dict(zip(unique, counts)))\n",
    "train.append(accuracy_score(Y1, a.labels_))\n",
    "test.append(accuracy_score(Yt, b.labels_))"
   ]
  },
  {
   "cell_type": "markdown",
   "id": "cb7a5dcd",
   "metadata": {},
   "source": [
    "# 6. PCA"
   ]
  },
  {
   "cell_type": "code",
   "execution_count": 15,
   "id": "ee6c4db7",
   "metadata": {},
   "outputs": [],
   "source": [
    "PCA_train =PCA(data,2)\n",
    "\n",
    "PCA_test = PCA(datat,2)\n",
    "PCA_train.factorize()\n",
    "PCA_test.factorize()"
   ]
  },
  {
   "cell_type": "code",
   "execution_count": 16,
   "id": "26bd19c6",
   "metadata": {},
   "outputs": [
    {
     "name": "stdout",
     "output_type": "stream",
     "text": [
      "Training:0.614\n",
      "Testing:0.6243756243756243\n",
      "{0: 958, 1: 42}\n",
      "{0: 953, 1: 48}\n"
     ]
    }
   ],
   "source": [
    "\n",
    "a = KMeans(n_clusters=2).fit(PCA_train.W)\n",
    "b = KMeans(n_clusters=2).fit(PCA_test.W)\n",
    "print(\"Training:{}\".format(accuracy_score(Y1, a.labels_)))\n",
    "print(\"Testing:{}\".format(accuracy_score(Yt, b.labels_)))\n",
    "unique, counts = np.unique(a.labels_, return_counts=True)\n",
    "print(dict(zip(unique, counts)))\n",
    "unique, counts = np.unique(b.labels_, return_counts=True)\n",
    "print(dict(zip(unique, counts)))\n",
    "train.append(accuracy_score(Y1, a.labels_))\n",
    "test.append(accuracy_score(Yt, b.labels_))"
   ]
  },
  {
   "cell_type": "markdown",
   "id": "f6d1ac80",
   "metadata": {},
   "source": [
    "# 7. Semi SNMF "
   ]
  },
  {
   "cell_type": "code",
   "execution_count": 17,
   "id": "8fff0c97",
   "metadata": {},
   "outputs": [],
   "source": [
    "SSNMF_train =SSNMF(data,2)\n",
    "\n",
    "SSNMF_test = SSNMF(datat,2)\n",
    "A0 = SSNMF_train.A\n",
    "S0 = SSNMF_train.S\n",
    "A1 = SSNMF_test.A\n",
    "S1 = SSNMF_test.S"
   ]
  },
  {
   "cell_type": "code",
   "execution_count": 18,
   "id": "d8c6fd0d",
   "metadata": {},
   "outputs": [
    {
     "name": "stdout",
     "output_type": "stream",
     "text": [
      "Training:0.497\n",
      "Testing:0.4775224775224775\n",
      "{0: 491, 1: 509}\n",
      "{0: 486, 1: 515}\n"
     ]
    }
   ],
   "source": [
    "\n",
    "a = KMeans(n_clusters=2).fit(A0)\n",
    "b = KMeans(n_clusters=2).fit(A1)\n",
    "print(\"Training:{}\".format(accuracy_score(Y1, a.labels_)))\n",
    "print(\"Testing:{}\".format(accuracy_score(Yt, b.labels_)))\n",
    "unique, counts = np.unique(a.labels_, return_counts=True)\n",
    "print(dict(zip(unique, counts)))\n",
    "unique, counts = np.unique(b.labels_, return_counts=True)\n",
    "print(dict(zip(unique, counts)))\n",
    "train.append(accuracy_score(Y1, a.labels_))\n",
    "test.append(accuracy_score(Yt, b.labels_))"
   ]
  },
  {
   "cell_type": "code",
   "execution_count": 19,
   "id": "661c2c5c",
   "metadata": {},
   "outputs": [
    {
     "data": {
      "text/plain": [
       "[0.617, 0.581, 0.416, 0.584, 0.584, 0.614, 0.497]"
      ]
     },
     "execution_count": 19,
     "metadata": {},
     "output_type": "execute_result"
    }
   ],
   "source": [
    "train"
   ]
  },
  {
   "cell_type": "code",
   "execution_count": 20,
   "id": "dfc30bd2",
   "metadata": {},
   "outputs": [],
   "source": [
    "result = pd.DataFrame()\n",
    "result['method']=methods\n",
    "result['training accuracy - H1']=train\n",
    "result['testing accuracy - H2']=test"
   ]
  },
  {
   "cell_type": "code",
   "execution_count": 21,
   "id": "52ce937b",
   "metadata": {},
   "outputs": [],
   "source": [
    "result.to_excel('others_result_25.xlsx')"
   ]
  },
  {
   "cell_type": "code",
   "execution_count": 22,
   "id": "4b93840a",
   "metadata": {},
   "outputs": [
    {
     "data": {
      "text/html": [
       "<div>\n",
       "<style scoped>\n",
       "    .dataframe tbody tr th:only-of-type {\n",
       "        vertical-align: middle;\n",
       "    }\n",
       "\n",
       "    .dataframe tbody tr th {\n",
       "        vertical-align: top;\n",
       "    }\n",
       "\n",
       "    .dataframe thead th {\n",
       "        text-align: right;\n",
       "    }\n",
       "</style>\n",
       "<table border=\"1\" class=\"dataframe\">\n",
       "  <thead>\n",
       "    <tr style=\"text-align: right;\">\n",
       "      <th></th>\n",
       "      <th>method</th>\n",
       "      <th>training accuracy - H1</th>\n",
       "      <th>testing accuracy - H2</th>\n",
       "    </tr>\n",
       "  </thead>\n",
       "  <tbody>\n",
       "    <tr>\n",
       "      <th>0</th>\n",
       "      <td>NMF</td>\n",
       "      <td>0.617</td>\n",
       "      <td>0.624376</td>\n",
       "    </tr>\n",
       "    <tr>\n",
       "      <th>1</th>\n",
       "      <td>CNMF</td>\n",
       "      <td>0.581</td>\n",
       "      <td>0.629371</td>\n",
       "    </tr>\n",
       "    <tr>\n",
       "      <th>2</th>\n",
       "      <td>LAESA</td>\n",
       "      <td>0.416</td>\n",
       "      <td>0.608392</td>\n",
       "    </tr>\n",
       "    <tr>\n",
       "      <th>3</th>\n",
       "      <td>SMNF</td>\n",
       "      <td>0.584</td>\n",
       "      <td>0.391608</td>\n",
       "    </tr>\n",
       "    <tr>\n",
       "      <th>4</th>\n",
       "      <td>GREEDY SVD</td>\n",
       "      <td>0.584</td>\n",
       "      <td>0.608392</td>\n",
       "    </tr>\n",
       "    <tr>\n",
       "      <th>5</th>\n",
       "      <td>PCA</td>\n",
       "      <td>0.614</td>\n",
       "      <td>0.624376</td>\n",
       "    </tr>\n",
       "    <tr>\n",
       "      <th>6</th>\n",
       "      <td>SSNMF</td>\n",
       "      <td>0.497</td>\n",
       "      <td>0.477522</td>\n",
       "    </tr>\n",
       "  </tbody>\n",
       "</table>\n",
       "</div>"
      ],
      "text/plain": [
       "       method  training accuracy - H1  testing accuracy - H2\n",
       "0         NMF                   0.617               0.624376\n",
       "1        CNMF                   0.581               0.629371\n",
       "2       LAESA                   0.416               0.608392\n",
       "3        SMNF                   0.584               0.391608\n",
       "4  GREEDY SVD                   0.584               0.608392\n",
       "5         PCA                   0.614               0.624376\n",
       "6       SSNMF                   0.497               0.477522"
      ]
     },
     "execution_count": 22,
     "metadata": {},
     "output_type": "execute_result"
    }
   ],
   "source": [
    "result"
   ]
  },
  {
   "cell_type": "code",
   "execution_count": null,
   "id": "565cfaf9",
   "metadata": {},
   "outputs": [],
   "source": []
  }
 ],
 "metadata": {
  "interpreter": {
   "hash": "e1d7411e1035ccafc9507cfd18b118f546c75186e2764cd13ca518b77b762399"
  },
  "kernelspec": {
   "display_name": "Python 3",
   "language": "python",
   "name": "python3"
  },
  "language_info": {
   "codemirror_mode": {
    "name": "ipython",
    "version": 3
   },
   "file_extension": ".py",
   "mimetype": "text/x-python",
   "name": "python",
   "nbconvert_exporter": "python",
   "pygments_lexer": "ipython3",
   "version": "3.8.8"
  }
 },
 "nbformat": 4,
 "nbformat_minor": 5
}
