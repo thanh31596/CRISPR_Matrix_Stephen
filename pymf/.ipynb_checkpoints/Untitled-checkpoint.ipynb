{
 "cells": [
  {
   "cell_type": "code",
   "execution_count": 1,
   "id": "f1a4f8b4",
   "metadata": {},
   "outputs": [],
   "source": [
    "import numpy as np\n",
    "import scipy\n",
    "from nmf import *\n",
    "from chnmf import *\n",
    "import pandas as pd\n",
    "from sklearn.metrics import f1_score, accuracy_score\n",
    "from sklearn.cluster import KMeans"
   ]
  },
  {
   "cell_type": "code",
   "execution_count": 2,
   "id": "cbec48a8",
   "metadata": {},
   "outputs": [],
   "source": [
    "df = pd.read_csv('C:/Users/vus/OneDrive - Queensland University of Technology/Dr_Luong_bigUpdate/QMI_train_and_test_tfidf.csv')  # got it\n",
    "df2 = pd.read_csv('C:/Users/vus/OneDrive - Queensland University of Technology/Dr_Luong_bigUpdate/label.csv')[:5013]\n",
    "py = pd.get_dummies(df2['labels'])\n",
    "s = pd.concat([df, py], join='outer', axis=1)\n",
    "layers = [100, 50, 2]  # manually assign the list of layers\n",
    "s = s[s.iloc[:, :-2].sum(axis=1) > 0.]\n",
    "df_ = s.iloc[:, :-2].values\n",
    "Y = s.iloc[:, -2:].values\n",
    "\n",
    "X = df_[:4000]\n",
    "Xt=df_[4000:]\n",
    "Y1 = [p[1] for p in Y[:4000]]\n",
    "Yt = [p[1] for p in Y[4000:]]\n",
    "data = X\n",
    "datat=Xt"
   ]
  },
  {
   "cell_type": "markdown",
   "id": "7fd27b8c",
   "metadata": {},
   "source": [
    "# NMF SIMPLE: "
   ]
  },
  {
   "cell_type": "code",
   "execution_count": 3,
   "id": "ad616057",
   "metadata": {},
   "outputs": [],
   "source": [
    "\n",
    "nmf_mdl = NMF(data)\n",
    "#nmf_mdl.initialization()\n",
    "nmf_mdl.factorize()\n",
    "nmf_test=NMF(datat, num_bases=2)\n",
    "nmf_test.factorize()"
   ]
  },
  {
   "cell_type": "code",
   "execution_count": 4,
   "id": "f5e6db22",
   "metadata": {},
   "outputs": [],
   "source": [
    "a = KMeans(n_clusters=2).fit(nmf_mdl.W)\n",
    "b = KMeans(n_clusters=2).fit(nmf_test.W)"
   ]
  },
  {
   "cell_type": "code",
   "execution_count": 5,
   "id": "2729bd85",
   "metadata": {},
   "outputs": [
    {
     "name": "stdout",
     "output_type": "stream",
     "text": [
      "Training:0.6265\n",
      "Testing:0.6243756243756243\n"
     ]
    }
   ],
   "source": [
    "print(\"Training:{}\".format(accuracy_score(Y1, a.labels_)))\n",
    "print(\"Testing:{}\".format(accuracy_score(Yt, b.labels_)))"
   ]
  },
  {
   "cell_type": "markdown",
   "id": "3af3d8e4",
   "metadata": {},
   "source": [
    "# convex NMF "
   ]
  },
  {
   "cell_type": "code",
   "execution_count": null,
   "id": "7e5b3029",
   "metadata": {},
   "outputs": [],
   "source": [
    "ctrain = CHNMF(data)\n",
    "ctest = CHNMF(datat)\n",
    "ctrain.factorize()\n",
    "ctest.factorize()"
   ]
  },
  {
   "cell_type": "code",
   "execution_count": null,
   "id": "05852dc8",
   "metadata": {},
   "outputs": [],
   "source": []
  }
 ],
 "metadata": {
  "kernelspec": {
   "display_name": "Python 3",
   "language": "python",
   "name": "python3"
  },
  "language_info": {
   "codemirror_mode": {
    "name": "ipython",
    "version": 3
   },
   "file_extension": ".py",
   "mimetype": "text/x-python",
   "name": "python",
   "nbconvert_exporter": "python",
   "pygments_lexer": "ipython3",
   "version": "3.8.8"
  }
 },
 "nbformat": 4,
 "nbformat_minor": 5
}
